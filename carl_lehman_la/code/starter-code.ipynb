{
 "cells": [
  {
   "cell_type": "markdown",
   "metadata": {},
   "source": [
    "# Project 1"
   ]
  },
  {
   "cell_type": "markdown",
   "metadata": {},
   "source": [
    "## Step 1: Load the data and perform basic operations."
   ]
  },
  {
   "cell_type": "markdown",
   "metadata": {},
   "source": [
    "##### 1. Load the data in using pandas."
   ]
  },
  {
   "cell_type": "code",
   "execution_count": 102,
   "metadata": {},
   "outputs": [],
   "source": [
    "import pandas as pd\n",
    "import numpy as np\n",
    "import matplotlib.pyplot as plt\n",
    "import seaborn as sns\n",
    "import scipy.stats as stats\n",
    "%matplotlib inline\n",
    "\n",
    "sat = pd.read_csv(\"../data/sat.csv\", index_col=[0])\n",
    "act = pd.read_csv(\"../data/act.csv\", index_col=[0])"
   ]
  },
  {
   "cell_type": "markdown",
   "metadata": {},
   "source": [
    "##### 2. Print the first ten rows of each dataframe."
   ]
  },
  {
   "cell_type": "code",
   "execution_count": 103,
   "metadata": {},
   "outputs": [
    {
     "data": {
      "text/html": [
       "<div>\n",
       "<style scoped>\n",
       "    .dataframe tbody tr th:only-of-type {\n",
       "        vertical-align: middle;\n",
       "    }\n",
       "\n",
       "    .dataframe tbody tr th {\n",
       "        vertical-align: top;\n",
       "    }\n",
       "\n",
       "    .dataframe thead th {\n",
       "        text-align: right;\n",
       "    }\n",
       "</style>\n",
       "<table border=\"1\" class=\"dataframe\">\n",
       "  <thead>\n",
       "    <tr style=\"text-align: right;\">\n",
       "      <th></th>\n",
       "      <th>State</th>\n",
       "      <th>Participation</th>\n",
       "      <th>Evidence-Based Reading and Writing</th>\n",
       "      <th>Math</th>\n",
       "      <th>Total</th>\n",
       "    </tr>\n",
       "  </thead>\n",
       "  <tbody>\n",
       "    <tr>\n",
       "      <th>0</th>\n",
       "      <td>Alabama</td>\n",
       "      <td>5%</td>\n",
       "      <td>593</td>\n",
       "      <td>572</td>\n",
       "      <td>1165</td>\n",
       "    </tr>\n",
       "    <tr>\n",
       "      <th>1</th>\n",
       "      <td>Alaska</td>\n",
       "      <td>38%</td>\n",
       "      <td>547</td>\n",
       "      <td>533</td>\n",
       "      <td>1080</td>\n",
       "    </tr>\n",
       "    <tr>\n",
       "      <th>2</th>\n",
       "      <td>Arizona</td>\n",
       "      <td>30%</td>\n",
       "      <td>563</td>\n",
       "      <td>553</td>\n",
       "      <td>1116</td>\n",
       "    </tr>\n",
       "    <tr>\n",
       "      <th>3</th>\n",
       "      <td>Arkansas</td>\n",
       "      <td>3%</td>\n",
       "      <td>614</td>\n",
       "      <td>594</td>\n",
       "      <td>1208</td>\n",
       "    </tr>\n",
       "    <tr>\n",
       "      <th>4</th>\n",
       "      <td>California</td>\n",
       "      <td>53%</td>\n",
       "      <td>531</td>\n",
       "      <td>524</td>\n",
       "      <td>1055</td>\n",
       "    </tr>\n",
       "    <tr>\n",
       "      <th>5</th>\n",
       "      <td>Colorado</td>\n",
       "      <td>11%</td>\n",
       "      <td>606</td>\n",
       "      <td>595</td>\n",
       "      <td>1201</td>\n",
       "    </tr>\n",
       "    <tr>\n",
       "      <th>6</th>\n",
       "      <td>Connecticut</td>\n",
       "      <td>100%</td>\n",
       "      <td>530</td>\n",
       "      <td>512</td>\n",
       "      <td>1041</td>\n",
       "    </tr>\n",
       "    <tr>\n",
       "      <th>7</th>\n",
       "      <td>Delaware</td>\n",
       "      <td>100%</td>\n",
       "      <td>503</td>\n",
       "      <td>492</td>\n",
       "      <td>996</td>\n",
       "    </tr>\n",
       "    <tr>\n",
       "      <th>8</th>\n",
       "      <td>District of Columbia</td>\n",
       "      <td>100%</td>\n",
       "      <td>482</td>\n",
       "      <td>468</td>\n",
       "      <td>950</td>\n",
       "    </tr>\n",
       "    <tr>\n",
       "      <th>9</th>\n",
       "      <td>Florida</td>\n",
       "      <td>83%</td>\n",
       "      <td>520</td>\n",
       "      <td>497</td>\n",
       "      <td>1017</td>\n",
       "    </tr>\n",
       "  </tbody>\n",
       "</table>\n",
       "</div>"
      ],
      "text/plain": [
       "                  State Participation  Evidence-Based Reading and Writing  \\\n",
       "0               Alabama            5%                                 593   \n",
       "1                Alaska           38%                                 547   \n",
       "2               Arizona           30%                                 563   \n",
       "3              Arkansas            3%                                 614   \n",
       "4            California           53%                                 531   \n",
       "5              Colorado           11%                                 606   \n",
       "6           Connecticut          100%                                 530   \n",
       "7              Delaware          100%                                 503   \n",
       "8  District of Columbia          100%                                 482   \n",
       "9               Florida           83%                                 520   \n",
       "\n",
       "   Math  Total  \n",
       "0   572   1165  \n",
       "1   533   1080  \n",
       "2   553   1116  \n",
       "3   594   1208  \n",
       "4   524   1055  \n",
       "5   595   1201  \n",
       "6   512   1041  \n",
       "7   492    996  \n",
       "8   468    950  \n",
       "9   497   1017  "
      ]
     },
     "execution_count": 103,
     "metadata": {},
     "output_type": "execute_result"
    }
   ],
   "source": [
    "sat.head(10)"
   ]
  },
  {
   "cell_type": "code",
   "execution_count": 104,
   "metadata": {},
   "outputs": [
    {
     "data": {
      "text/html": [
       "<div>\n",
       "<style scoped>\n",
       "    .dataframe tbody tr th:only-of-type {\n",
       "        vertical-align: middle;\n",
       "    }\n",
       "\n",
       "    .dataframe tbody tr th {\n",
       "        vertical-align: top;\n",
       "    }\n",
       "\n",
       "    .dataframe thead th {\n",
       "        text-align: right;\n",
       "    }\n",
       "</style>\n",
       "<table border=\"1\" class=\"dataframe\">\n",
       "  <thead>\n",
       "    <tr style=\"text-align: right;\">\n",
       "      <th></th>\n",
       "      <th>State</th>\n",
       "      <th>Participation</th>\n",
       "      <th>English</th>\n",
       "      <th>Math</th>\n",
       "      <th>Reading</th>\n",
       "      <th>Science</th>\n",
       "      <th>Composite</th>\n",
       "    </tr>\n",
       "  </thead>\n",
       "  <tbody>\n",
       "    <tr>\n",
       "      <th>0</th>\n",
       "      <td>National</td>\n",
       "      <td>60%</td>\n",
       "      <td>20.3</td>\n",
       "      <td>20.7</td>\n",
       "      <td>21.4</td>\n",
       "      <td>21.0</td>\n",
       "      <td>21.0</td>\n",
       "    </tr>\n",
       "    <tr>\n",
       "      <th>1</th>\n",
       "      <td>Alabama</td>\n",
       "      <td>100%</td>\n",
       "      <td>18.9</td>\n",
       "      <td>18.4</td>\n",
       "      <td>19.7</td>\n",
       "      <td>19.4</td>\n",
       "      <td>19.2</td>\n",
       "    </tr>\n",
       "    <tr>\n",
       "      <th>2</th>\n",
       "      <td>Alaska</td>\n",
       "      <td>65%</td>\n",
       "      <td>18.7</td>\n",
       "      <td>19.8</td>\n",
       "      <td>20.4</td>\n",
       "      <td>19.9</td>\n",
       "      <td>19.8</td>\n",
       "    </tr>\n",
       "    <tr>\n",
       "      <th>3</th>\n",
       "      <td>Arizona</td>\n",
       "      <td>62%</td>\n",
       "      <td>18.6</td>\n",
       "      <td>19.8</td>\n",
       "      <td>20.1</td>\n",
       "      <td>19.8</td>\n",
       "      <td>19.7</td>\n",
       "    </tr>\n",
       "    <tr>\n",
       "      <th>4</th>\n",
       "      <td>Arkansas</td>\n",
       "      <td>100%</td>\n",
       "      <td>18.9</td>\n",
       "      <td>19.0</td>\n",
       "      <td>19.7</td>\n",
       "      <td>19.5</td>\n",
       "      <td>19.4</td>\n",
       "    </tr>\n",
       "    <tr>\n",
       "      <th>5</th>\n",
       "      <td>California</td>\n",
       "      <td>31%</td>\n",
       "      <td>22.5</td>\n",
       "      <td>22.7</td>\n",
       "      <td>23.1</td>\n",
       "      <td>22.2</td>\n",
       "      <td>22.8</td>\n",
       "    </tr>\n",
       "    <tr>\n",
       "      <th>6</th>\n",
       "      <td>Colorado</td>\n",
       "      <td>100%</td>\n",
       "      <td>20.1</td>\n",
       "      <td>20.3</td>\n",
       "      <td>21.2</td>\n",
       "      <td>20.9</td>\n",
       "      <td>20.8</td>\n",
       "    </tr>\n",
       "    <tr>\n",
       "      <th>7</th>\n",
       "      <td>Connecticut</td>\n",
       "      <td>31%</td>\n",
       "      <td>25.5</td>\n",
       "      <td>24.6</td>\n",
       "      <td>25.6</td>\n",
       "      <td>24.6</td>\n",
       "      <td>25.2</td>\n",
       "    </tr>\n",
       "    <tr>\n",
       "      <th>8</th>\n",
       "      <td>Delaware</td>\n",
       "      <td>18%</td>\n",
       "      <td>24.1</td>\n",
       "      <td>23.4</td>\n",
       "      <td>24.8</td>\n",
       "      <td>23.6</td>\n",
       "      <td>24.1</td>\n",
       "    </tr>\n",
       "    <tr>\n",
       "      <th>9</th>\n",
       "      <td>District of Columbia</td>\n",
       "      <td>32%</td>\n",
       "      <td>24.4</td>\n",
       "      <td>23.5</td>\n",
       "      <td>24.9</td>\n",
       "      <td>23.5</td>\n",
       "      <td>24.2</td>\n",
       "    </tr>\n",
       "  </tbody>\n",
       "</table>\n",
       "</div>"
      ],
      "text/plain": [
       "                  State Participation  English  Math  Reading  Science  \\\n",
       "0              National           60%     20.3  20.7     21.4     21.0   \n",
       "1               Alabama          100%     18.9  18.4     19.7     19.4   \n",
       "2                Alaska           65%     18.7  19.8     20.4     19.9   \n",
       "3               Arizona           62%     18.6  19.8     20.1     19.8   \n",
       "4              Arkansas          100%     18.9  19.0     19.7     19.5   \n",
       "5            California           31%     22.5  22.7     23.1     22.2   \n",
       "6              Colorado          100%     20.1  20.3     21.2     20.9   \n",
       "7           Connecticut           31%     25.5  24.6     25.6     24.6   \n",
       "8              Delaware           18%     24.1  23.4     24.8     23.6   \n",
       "9  District of Columbia           32%     24.4  23.5     24.9     23.5   \n",
       "\n",
       "   Composite  \n",
       "0       21.0  \n",
       "1       19.2  \n",
       "2       19.8  \n",
       "3       19.7  \n",
       "4       19.4  \n",
       "5       22.8  \n",
       "6       20.8  \n",
       "7       25.2  \n",
       "8       24.1  \n",
       "9       24.2  "
      ]
     },
     "execution_count": 104,
     "metadata": {},
     "output_type": "execute_result"
    }
   ],
   "source": [
    "act.head(10)"
   ]
  },
  {
   "cell_type": "markdown",
   "metadata": {},
   "source": [
    "##### 3. Describe in words what each variable (column) is."
   ]
  },
  {
   "cell_type": "markdown",
   "metadata": {
    "collapsed": true
   },
   "source": [
    "For ACT:\n",
    "    The State variable represents the state in which the standardized test was taken in\n",
    "    The Participation variable represents the proportion of students who took the standardized test per state\n",
    "    The English variable represents the average english score per state\n",
    "    The Math variable represents the average math score per state\n",
    "    the Reading variable represents the average reading score per state\n",
    "    the Composite variable represents the average composite score per state\n",
    "For SAT:\n",
    "    The State variable represents the state in which the standardized test was taken in\n",
    "    The Participation variable represents the proportion of students who took the standarized test per state\n",
    "    The Evidence-Based Reading and Writing variable represents the average score per state on that section\n",
    "    The Math variable represents the average math score per state\n",
    "    The Total variable represents the average total score per state"
   ]
  },
  {
   "cell_type": "markdown",
   "metadata": {},
   "source": [
    "##### 4. Does the data look complete? Are there any obvious issues with the observations?"
   ]
  },
  {
   "cell_type": "code",
   "execution_count": 105,
   "metadata": {},
   "outputs": [
    {
     "data": {
      "text/html": [
       "<div>\n",
       "<style scoped>\n",
       "    .dataframe tbody tr th:only-of-type {\n",
       "        vertical-align: middle;\n",
       "    }\n",
       "\n",
       "    .dataframe tbody tr th {\n",
       "        vertical-align: top;\n",
       "    }\n",
       "\n",
       "    .dataframe thead th {\n",
       "        text-align: right;\n",
       "    }\n",
       "</style>\n",
       "<table border=\"1\" class=\"dataframe\">\n",
       "  <thead>\n",
       "    <tr style=\"text-align: right;\">\n",
       "      <th></th>\n",
       "      <th>Evidence-Based Reading and Writing</th>\n",
       "      <th>Math</th>\n",
       "      <th>Total</th>\n",
       "    </tr>\n",
       "  </thead>\n",
       "  <tbody>\n",
       "    <tr>\n",
       "      <th>count</th>\n",
       "      <td>51.000000</td>\n",
       "      <td>51.000000</td>\n",
       "      <td>51.000000</td>\n",
       "    </tr>\n",
       "    <tr>\n",
       "      <th>mean</th>\n",
       "      <td>569.117647</td>\n",
       "      <td>547.627451</td>\n",
       "      <td>1126.098039</td>\n",
       "    </tr>\n",
       "    <tr>\n",
       "      <th>std</th>\n",
       "      <td>45.666901</td>\n",
       "      <td>84.909119</td>\n",
       "      <td>92.494812</td>\n",
       "    </tr>\n",
       "    <tr>\n",
       "      <th>min</th>\n",
       "      <td>482.000000</td>\n",
       "      <td>52.000000</td>\n",
       "      <td>950.000000</td>\n",
       "    </tr>\n",
       "    <tr>\n",
       "      <th>25%</th>\n",
       "      <td>533.500000</td>\n",
       "      <td>522.000000</td>\n",
       "      <td>1055.500000</td>\n",
       "    </tr>\n",
       "    <tr>\n",
       "      <th>50%</th>\n",
       "      <td>559.000000</td>\n",
       "      <td>548.000000</td>\n",
       "      <td>1107.000000</td>\n",
       "    </tr>\n",
       "    <tr>\n",
       "      <th>75%</th>\n",
       "      <td>613.000000</td>\n",
       "      <td>599.000000</td>\n",
       "      <td>1212.000000</td>\n",
       "    </tr>\n",
       "    <tr>\n",
       "      <th>max</th>\n",
       "      <td>644.000000</td>\n",
       "      <td>651.000000</td>\n",
       "      <td>1295.000000</td>\n",
       "    </tr>\n",
       "  </tbody>\n",
       "</table>\n",
       "</div>"
      ],
      "text/plain": [
       "       Evidence-Based Reading and Writing        Math        Total\n",
       "count                           51.000000   51.000000    51.000000\n",
       "mean                           569.117647  547.627451  1126.098039\n",
       "std                             45.666901   84.909119    92.494812\n",
       "min                            482.000000   52.000000   950.000000\n",
       "25%                            533.500000  522.000000  1055.500000\n",
       "50%                            559.000000  548.000000  1107.000000\n",
       "75%                            613.000000  599.000000  1212.000000\n",
       "max                            644.000000  651.000000  1295.000000"
      ]
     },
     "execution_count": 105,
     "metadata": {},
     "output_type": "execute_result"
    }
   ],
   "source": [
    "sat.describe()"
   ]
  },
  {
   "cell_type": "code",
   "execution_count": 106,
   "metadata": {},
   "outputs": [
    {
     "data": {
      "text/html": [
       "<div>\n",
       "<style scoped>\n",
       "    .dataframe tbody tr th:only-of-type {\n",
       "        vertical-align: middle;\n",
       "    }\n",
       "\n",
       "    .dataframe tbody tr th {\n",
       "        vertical-align: top;\n",
       "    }\n",
       "\n",
       "    .dataframe thead th {\n",
       "        text-align: right;\n",
       "    }\n",
       "</style>\n",
       "<table border=\"1\" class=\"dataframe\">\n",
       "  <thead>\n",
       "    <tr style=\"text-align: right;\">\n",
       "      <th></th>\n",
       "      <th>English</th>\n",
       "      <th>Math</th>\n",
       "      <th>Reading</th>\n",
       "      <th>Science</th>\n",
       "      <th>Composite</th>\n",
       "    </tr>\n",
       "  </thead>\n",
       "  <tbody>\n",
       "    <tr>\n",
       "      <th>count</th>\n",
       "      <td>52.000000</td>\n",
       "      <td>52.000000</td>\n",
       "      <td>52.000000</td>\n",
       "      <td>52.000000</td>\n",
       "      <td>52.000000</td>\n",
       "    </tr>\n",
       "    <tr>\n",
       "      <th>mean</th>\n",
       "      <td>20.919231</td>\n",
       "      <td>21.173077</td>\n",
       "      <td>22.001923</td>\n",
       "      <td>21.040385</td>\n",
       "      <td>21.509615</td>\n",
       "    </tr>\n",
       "    <tr>\n",
       "      <th>std</th>\n",
       "      <td>2.332132</td>\n",
       "      <td>1.963602</td>\n",
       "      <td>2.048672</td>\n",
       "      <td>3.151113</td>\n",
       "      <td>2.002083</td>\n",
       "    </tr>\n",
       "    <tr>\n",
       "      <th>min</th>\n",
       "      <td>16.300000</td>\n",
       "      <td>18.000000</td>\n",
       "      <td>18.100000</td>\n",
       "      <td>2.300000</td>\n",
       "      <td>17.800000</td>\n",
       "    </tr>\n",
       "    <tr>\n",
       "      <th>25%</th>\n",
       "      <td>19.000000</td>\n",
       "      <td>19.400000</td>\n",
       "      <td>20.475000</td>\n",
       "      <td>19.900000</td>\n",
       "      <td>19.800000</td>\n",
       "    </tr>\n",
       "    <tr>\n",
       "      <th>50%</th>\n",
       "      <td>20.550000</td>\n",
       "      <td>20.900000</td>\n",
       "      <td>21.700000</td>\n",
       "      <td>21.150000</td>\n",
       "      <td>21.400000</td>\n",
       "    </tr>\n",
       "    <tr>\n",
       "      <th>75%</th>\n",
       "      <td>23.300000</td>\n",
       "      <td>23.100000</td>\n",
       "      <td>24.125000</td>\n",
       "      <td>22.525000</td>\n",
       "      <td>23.600000</td>\n",
       "    </tr>\n",
       "    <tr>\n",
       "      <th>max</th>\n",
       "      <td>25.500000</td>\n",
       "      <td>25.300000</td>\n",
       "      <td>26.000000</td>\n",
       "      <td>24.900000</td>\n",
       "      <td>25.500000</td>\n",
       "    </tr>\n",
       "  </tbody>\n",
       "</table>\n",
       "</div>"
      ],
      "text/plain": [
       "         English       Math    Reading    Science  Composite\n",
       "count  52.000000  52.000000  52.000000  52.000000  52.000000\n",
       "mean   20.919231  21.173077  22.001923  21.040385  21.509615\n",
       "std     2.332132   1.963602   2.048672   3.151113   2.002083\n",
       "min    16.300000  18.000000  18.100000   2.300000  17.800000\n",
       "25%    19.000000  19.400000  20.475000  19.900000  19.800000\n",
       "50%    20.550000  20.900000  21.700000  21.150000  21.400000\n",
       "75%    23.300000  23.100000  24.125000  22.525000  23.600000\n",
       "max    25.500000  25.300000  26.000000  24.900000  25.500000"
      ]
     },
     "execution_count": 106,
     "metadata": {},
     "output_type": "execute_result"
    }
   ],
   "source": [
    "act.describe()"
   ]
  },
  {
   "cell_type": "code",
   "execution_count": 107,
   "metadata": {},
   "outputs": [
    {
     "data": {
      "text/html": [
       "<div>\n",
       "<style scoped>\n",
       "    .dataframe tbody tr th:only-of-type {\n",
       "        vertical-align: middle;\n",
       "    }\n",
       "\n",
       "    .dataframe tbody tr th {\n",
       "        vertical-align: top;\n",
       "    }\n",
       "\n",
       "    .dataframe thead th {\n",
       "        text-align: right;\n",
       "    }\n",
       "</style>\n",
       "<table border=\"1\" class=\"dataframe\">\n",
       "  <thead>\n",
       "    <tr style=\"text-align: right;\">\n",
       "      <th></th>\n",
       "      <th>State</th>\n",
       "      <th>Participation</th>\n",
       "      <th>Evidence-Based Reading and Writing</th>\n",
       "      <th>Math</th>\n",
       "      <th>Total</th>\n",
       "    </tr>\n",
       "  </thead>\n",
       "  <tbody>\n",
       "    <tr>\n",
       "      <th>20</th>\n",
       "      <td>Maryland</td>\n",
       "      <td>69%</td>\n",
       "      <td>536</td>\n",
       "      <td>52</td>\n",
       "      <td>1060</td>\n",
       "    </tr>\n",
       "  </tbody>\n",
       "</table>\n",
       "</div>"
      ],
      "text/plain": [
       "       State Participation  Evidence-Based Reading and Writing  Math  Total\n",
       "20  Maryland           69%                                 536    52   1060"
      ]
     },
     "execution_count": 107,
     "metadata": {},
     "output_type": "execute_result"
    }
   ],
   "source": [
    "sat[sat['State'] == 'Maryland']"
   ]
  },
  {
   "cell_type": "code",
   "execution_count": 108,
   "metadata": {},
   "outputs": [
    {
     "data": {
      "text/html": [
       "<div>\n",
       "<style scoped>\n",
       "    .dataframe tbody tr th:only-of-type {\n",
       "        vertical-align: middle;\n",
       "    }\n",
       "\n",
       "    .dataframe tbody tr th {\n",
       "        vertical-align: top;\n",
       "    }\n",
       "\n",
       "    .dataframe thead th {\n",
       "        text-align: right;\n",
       "    }\n",
       "</style>\n",
       "<table border=\"1\" class=\"dataframe\">\n",
       "  <thead>\n",
       "    <tr style=\"text-align: right;\">\n",
       "      <th></th>\n",
       "      <th>State</th>\n",
       "      <th>Participation</th>\n",
       "      <th>English</th>\n",
       "      <th>Math</th>\n",
       "      <th>Reading</th>\n",
       "      <th>Science</th>\n",
       "      <th>Composite</th>\n",
       "    </tr>\n",
       "  </thead>\n",
       "  <tbody>\n",
       "    <tr>\n",
       "      <th>21</th>\n",
       "      <td>Maryland</td>\n",
       "      <td>28%</td>\n",
       "      <td>23.3</td>\n",
       "      <td>23.1</td>\n",
       "      <td>24.2</td>\n",
       "      <td>2.3</td>\n",
       "      <td>23.6</td>\n",
       "    </tr>\n",
       "  </tbody>\n",
       "</table>\n",
       "</div>"
      ],
      "text/plain": [
       "       State Participation  English  Math  Reading  Science  Composite\n",
       "21  Maryland           28%     23.3  23.1     24.2      2.3       23.6"
      ]
     },
     "execution_count": 108,
     "metadata": {},
     "output_type": "execute_result"
    }
   ],
   "source": [
    "act[act['State'] == 'Maryland']"
   ]
  },
  {
   "cell_type": "markdown",
   "metadata": {},
   "source": [
    "The math score for Maryland is 52 which doesn't make sense given their composite score and their reading and writing score. Also Maryland's science score does not make sense given their composite."
   ]
  },
  {
   "cell_type": "code",
   "execution_count": 109,
   "metadata": {},
   "outputs": [],
   "source": [
    "sat.loc[20,['Math']] = 524\n",
    "act.loc[21,['Science']] = 23.8"
   ]
  },
  {
   "cell_type": "code",
   "execution_count": 110,
   "metadata": {},
   "outputs": [
    {
     "data": {
      "text/html": [
       "<div>\n",
       "<style scoped>\n",
       "    .dataframe tbody tr th:only-of-type {\n",
       "        vertical-align: middle;\n",
       "    }\n",
       "\n",
       "    .dataframe tbody tr th {\n",
       "        vertical-align: top;\n",
       "    }\n",
       "\n",
       "    .dataframe thead th {\n",
       "        text-align: right;\n",
       "    }\n",
       "</style>\n",
       "<table border=\"1\" class=\"dataframe\">\n",
       "  <thead>\n",
       "    <tr style=\"text-align: right;\">\n",
       "      <th></th>\n",
       "      <th>Evidence-Based Reading and Writing</th>\n",
       "      <th>Math</th>\n",
       "      <th>Total</th>\n",
       "    </tr>\n",
       "  </thead>\n",
       "  <tbody>\n",
       "    <tr>\n",
       "      <th>count</th>\n",
       "      <td>51.000000</td>\n",
       "      <td>51.000000</td>\n",
       "      <td>51.000000</td>\n",
       "    </tr>\n",
       "    <tr>\n",
       "      <th>mean</th>\n",
       "      <td>569.117647</td>\n",
       "      <td>556.882353</td>\n",
       "      <td>1126.098039</td>\n",
       "    </tr>\n",
       "    <tr>\n",
       "      <th>std</th>\n",
       "      <td>45.666901</td>\n",
       "      <td>47.121395</td>\n",
       "      <td>92.494812</td>\n",
       "    </tr>\n",
       "    <tr>\n",
       "      <th>min</th>\n",
       "      <td>482.000000</td>\n",
       "      <td>468.000000</td>\n",
       "      <td>950.000000</td>\n",
       "    </tr>\n",
       "    <tr>\n",
       "      <th>25%</th>\n",
       "      <td>533.500000</td>\n",
       "      <td>523.500000</td>\n",
       "      <td>1055.500000</td>\n",
       "    </tr>\n",
       "    <tr>\n",
       "      <th>50%</th>\n",
       "      <td>559.000000</td>\n",
       "      <td>548.000000</td>\n",
       "      <td>1107.000000</td>\n",
       "    </tr>\n",
       "    <tr>\n",
       "      <th>75%</th>\n",
       "      <td>613.000000</td>\n",
       "      <td>599.000000</td>\n",
       "      <td>1212.000000</td>\n",
       "    </tr>\n",
       "    <tr>\n",
       "      <th>max</th>\n",
       "      <td>644.000000</td>\n",
       "      <td>651.000000</td>\n",
       "      <td>1295.000000</td>\n",
       "    </tr>\n",
       "  </tbody>\n",
       "</table>\n",
       "</div>"
      ],
      "text/plain": [
       "       Evidence-Based Reading and Writing        Math        Total\n",
       "count                           51.000000   51.000000    51.000000\n",
       "mean                           569.117647  556.882353  1126.098039\n",
       "std                             45.666901   47.121395    92.494812\n",
       "min                            482.000000  468.000000   950.000000\n",
       "25%                            533.500000  523.500000  1055.500000\n",
       "50%                            559.000000  548.000000  1107.000000\n",
       "75%                            613.000000  599.000000  1212.000000\n",
       "max                            644.000000  651.000000  1295.000000"
      ]
     },
     "execution_count": 110,
     "metadata": {},
     "output_type": "execute_result"
    }
   ],
   "source": [
    "sat.describe()"
   ]
  },
  {
   "cell_type": "code",
   "execution_count": 111,
   "metadata": {},
   "outputs": [
    {
     "data": {
      "text/html": [
       "<div>\n",
       "<style scoped>\n",
       "    .dataframe tbody tr th:only-of-type {\n",
       "        vertical-align: middle;\n",
       "    }\n",
       "\n",
       "    .dataframe tbody tr th {\n",
       "        vertical-align: top;\n",
       "    }\n",
       "\n",
       "    .dataframe thead th {\n",
       "        text-align: right;\n",
       "    }\n",
       "</style>\n",
       "<table border=\"1\" class=\"dataframe\">\n",
       "  <thead>\n",
       "    <tr style=\"text-align: right;\">\n",
       "      <th></th>\n",
       "      <th>English</th>\n",
       "      <th>Math</th>\n",
       "      <th>Reading</th>\n",
       "      <th>Science</th>\n",
       "      <th>Composite</th>\n",
       "    </tr>\n",
       "  </thead>\n",
       "  <tbody>\n",
       "    <tr>\n",
       "      <th>count</th>\n",
       "      <td>52.000000</td>\n",
       "      <td>52.000000</td>\n",
       "      <td>52.000000</td>\n",
       "      <td>52.000000</td>\n",
       "      <td>52.000000</td>\n",
       "    </tr>\n",
       "    <tr>\n",
       "      <th>mean</th>\n",
       "      <td>20.919231</td>\n",
       "      <td>21.173077</td>\n",
       "      <td>22.001923</td>\n",
       "      <td>21.453846</td>\n",
       "      <td>21.509615</td>\n",
       "    </tr>\n",
       "    <tr>\n",
       "      <th>std</th>\n",
       "      <td>2.332132</td>\n",
       "      <td>1.963602</td>\n",
       "      <td>2.048672</td>\n",
       "      <td>1.737303</td>\n",
       "      <td>2.002083</td>\n",
       "    </tr>\n",
       "    <tr>\n",
       "      <th>min</th>\n",
       "      <td>16.300000</td>\n",
       "      <td>18.000000</td>\n",
       "      <td>18.100000</td>\n",
       "      <td>18.200000</td>\n",
       "      <td>17.800000</td>\n",
       "    </tr>\n",
       "    <tr>\n",
       "      <th>25%</th>\n",
       "      <td>19.000000</td>\n",
       "      <td>19.400000</td>\n",
       "      <td>20.475000</td>\n",
       "      <td>19.975000</td>\n",
       "      <td>19.800000</td>\n",
       "    </tr>\n",
       "    <tr>\n",
       "      <th>50%</th>\n",
       "      <td>20.550000</td>\n",
       "      <td>20.900000</td>\n",
       "      <td>21.700000</td>\n",
       "      <td>21.300000</td>\n",
       "      <td>21.400000</td>\n",
       "    </tr>\n",
       "    <tr>\n",
       "      <th>75%</th>\n",
       "      <td>23.300000</td>\n",
       "      <td>23.100000</td>\n",
       "      <td>24.125000</td>\n",
       "      <td>23.200000</td>\n",
       "      <td>23.600000</td>\n",
       "    </tr>\n",
       "    <tr>\n",
       "      <th>max</th>\n",
       "      <td>25.500000</td>\n",
       "      <td>25.300000</td>\n",
       "      <td>26.000000</td>\n",
       "      <td>24.900000</td>\n",
       "      <td>25.500000</td>\n",
       "    </tr>\n",
       "  </tbody>\n",
       "</table>\n",
       "</div>"
      ],
      "text/plain": [
       "         English       Math    Reading    Science  Composite\n",
       "count  52.000000  52.000000  52.000000  52.000000  52.000000\n",
       "mean   20.919231  21.173077  22.001923  21.453846  21.509615\n",
       "std     2.332132   1.963602   2.048672   1.737303   2.002083\n",
       "min    16.300000  18.000000  18.100000  18.200000  17.800000\n",
       "25%    19.000000  19.400000  20.475000  19.975000  19.800000\n",
       "50%    20.550000  20.900000  21.700000  21.300000  21.400000\n",
       "75%    23.300000  23.100000  24.125000  23.200000  23.600000\n",
       "max    25.500000  25.300000  26.000000  24.900000  25.500000"
      ]
     },
     "execution_count": 111,
     "metadata": {},
     "output_type": "execute_result"
    }
   ],
   "source": [
    "act.describe()"
   ]
  },
  {
   "cell_type": "markdown",
   "metadata": {},
   "source": [
    "##### 5. Print the types of each column."
   ]
  },
  {
   "cell_type": "code",
   "execution_count": 112,
   "metadata": {
    "scrolled": true
   },
   "outputs": [
    {
     "data": {
      "text/plain": [
       "State                                 object\n",
       "Participation                         object\n",
       "Evidence-Based Reading and Writing     int64\n",
       "Math                                   int64\n",
       "Total                                  int64\n",
       "dtype: object"
      ]
     },
     "execution_count": 112,
     "metadata": {},
     "output_type": "execute_result"
    }
   ],
   "source": [
    "sat.dtypes"
   ]
  },
  {
   "cell_type": "code",
   "execution_count": 113,
   "metadata": {},
   "outputs": [
    {
     "data": {
      "text/plain": [
       "State             object\n",
       "Participation     object\n",
       "English          float64\n",
       "Math             float64\n",
       "Reading          float64\n",
       "Science          float64\n",
       "Composite        float64\n",
       "dtype: object"
      ]
     },
     "execution_count": 113,
     "metadata": {},
     "output_type": "execute_result"
    }
   ],
   "source": [
    "act.dtypes"
   ]
  },
  {
   "cell_type": "markdown",
   "metadata": {},
   "source": [
    "##### 6. Do any types need to be reassigned? If so, go ahead and do it."
   ]
  },
  {
   "cell_type": "markdown",
   "metadata": {
    "collapsed": true
   },
   "source": [
    "Yes, participation is an object when it'll be more useful as a float."
   ]
  },
  {
   "cell_type": "code",
   "execution_count": 114,
   "metadata": {},
   "outputs": [],
   "source": [
    "sat['Participation'] = sat['Participation'].apply(lambda x: (float(x[:-1])/100))\n",
    "act['Participation'] = act['Participation'].apply(lambda x: (float(x[:-1])/100))"
   ]
  },
  {
   "cell_type": "markdown",
   "metadata": {},
   "source": [
    "##### 7. Create a dictionary for each column mapping the State to its respective value for that column. (For example, you should have three SAT dictionaries.)"
   ]
  },
  {
   "cell_type": "code",
   "execution_count": 115,
   "metadata": {},
   "outputs": [],
   "source": [
    "sat_reading = {}\n",
    "sat_math = {}\n",
    "sat_total = {}\n",
    "\n",
    "for i in range(0,51):\n",
    "    sat_reading[sat['State'][i]] = sat['Evidence-Based Reading and Writing'][i]\n",
    "\n",
    "for i in range(0,51):\n",
    "    sat_math[sat['State'][i]] = sat['Math'][i]\n",
    "\n",
    "for i in range(0,51):\n",
    "    sat_total[sat['Total'][i]] = sat['Total'][i]\n",
    "    \n",
    "act_math = {}\n",
    "act_science = {}\n",
    "act_english = {}\n",
    "act_reading = {}\n",
    "act_composite = {}\n",
    "\n",
    "for i in range(0,52):\n",
    "    act_math[act['State'][i]] = act['Math'][i]\n",
    "for i in range(0,52):\n",
    "    act_science[act['State'][i]] = act['Science'][i]\n",
    "for i in range(0,52):\n",
    "    act_english[act['State'][i]] = act['English'][i]\n",
    "for i in range(0,52):\n",
    "    act_reading[act['State'][i]] = act['Reading'][i]\n",
    "for i in range(0,52):\n",
    "    act_composite[act['State'][i]] = act['Composite'][i]\n"
   ]
  },
  {
   "cell_type": "markdown",
   "metadata": {},
   "source": [
    "##### 8. Create one dictionary where each key is the column name, and each value is an iterable (a list or a Pandas Series) of all the values in that column."
   ]
  },
  {
   "cell_type": "code",
   "execution_count": 116,
   "metadata": {},
   "outputs": [],
   "source": [
    "sat_col_names = sat.columns\n",
    "act_col_names = act.columns\n",
    "act_dictionary = {}\n",
    "sat_dictionary = {}\n",
    "\n",
    "for i in sat_col_names:\n",
    "    sat_dictionary[i] = sat[i]\n",
    "\n",
    "for i in act_col_names:\n",
    "    act_dictionary[i] = act[i]\n"
   ]
  },
  {
   "cell_type": "markdown",
   "metadata": {},
   "source": [
    "##### 9. Merge the dataframes on the state column."
   ]
  },
  {
   "cell_type": "code",
   "execution_count": 117,
   "metadata": {},
   "outputs": [
    {
     "data": {
      "text/html": [
       "<div>\n",
       "<style scoped>\n",
       "    .dataframe tbody tr th:only-of-type {\n",
       "        vertical-align: middle;\n",
       "    }\n",
       "\n",
       "    .dataframe tbody tr th {\n",
       "        vertical-align: top;\n",
       "    }\n",
       "\n",
       "    .dataframe thead th {\n",
       "        text-align: right;\n",
       "    }\n",
       "</style>\n",
       "<table border=\"1\" class=\"dataframe\">\n",
       "  <thead>\n",
       "    <tr style=\"text-align: right;\">\n",
       "      <th></th>\n",
       "      <th>State</th>\n",
       "      <th>Participation_x</th>\n",
       "      <th>Evidence-Based Reading and Writing</th>\n",
       "      <th>Math_x</th>\n",
       "      <th>Total</th>\n",
       "      <th>Participation_y</th>\n",
       "      <th>English</th>\n",
       "      <th>Math_y</th>\n",
       "      <th>Reading</th>\n",
       "      <th>Science</th>\n",
       "      <th>Composite</th>\n",
       "    </tr>\n",
       "  </thead>\n",
       "  <tbody>\n",
       "    <tr>\n",
       "      <th>0</th>\n",
       "      <td>Alabama</td>\n",
       "      <td>0.05</td>\n",
       "      <td>593</td>\n",
       "      <td>572</td>\n",
       "      <td>1165</td>\n",
       "      <td>1.00</td>\n",
       "      <td>18.9</td>\n",
       "      <td>18.4</td>\n",
       "      <td>19.7</td>\n",
       "      <td>19.4</td>\n",
       "      <td>19.2</td>\n",
       "    </tr>\n",
       "    <tr>\n",
       "      <th>1</th>\n",
       "      <td>Alaska</td>\n",
       "      <td>0.38</td>\n",
       "      <td>547</td>\n",
       "      <td>533</td>\n",
       "      <td>1080</td>\n",
       "      <td>0.65</td>\n",
       "      <td>18.7</td>\n",
       "      <td>19.8</td>\n",
       "      <td>20.4</td>\n",
       "      <td>19.9</td>\n",
       "      <td>19.8</td>\n",
       "    </tr>\n",
       "    <tr>\n",
       "      <th>2</th>\n",
       "      <td>Arizona</td>\n",
       "      <td>0.30</td>\n",
       "      <td>563</td>\n",
       "      <td>553</td>\n",
       "      <td>1116</td>\n",
       "      <td>0.62</td>\n",
       "      <td>18.6</td>\n",
       "      <td>19.8</td>\n",
       "      <td>20.1</td>\n",
       "      <td>19.8</td>\n",
       "      <td>19.7</td>\n",
       "    </tr>\n",
       "    <tr>\n",
       "      <th>3</th>\n",
       "      <td>Arkansas</td>\n",
       "      <td>0.03</td>\n",
       "      <td>614</td>\n",
       "      <td>594</td>\n",
       "      <td>1208</td>\n",
       "      <td>1.00</td>\n",
       "      <td>18.9</td>\n",
       "      <td>19.0</td>\n",
       "      <td>19.7</td>\n",
       "      <td>19.5</td>\n",
       "      <td>19.4</td>\n",
       "    </tr>\n",
       "    <tr>\n",
       "      <th>4</th>\n",
       "      <td>California</td>\n",
       "      <td>0.53</td>\n",
       "      <td>531</td>\n",
       "      <td>524</td>\n",
       "      <td>1055</td>\n",
       "      <td>0.31</td>\n",
       "      <td>22.5</td>\n",
       "      <td>22.7</td>\n",
       "      <td>23.1</td>\n",
       "      <td>22.2</td>\n",
       "      <td>22.8</td>\n",
       "    </tr>\n",
       "  </tbody>\n",
       "</table>\n",
       "</div>"
      ],
      "text/plain": [
       "        State  Participation_x  Evidence-Based Reading and Writing  Math_x  \\\n",
       "0     Alabama             0.05                                 593     572   \n",
       "1      Alaska             0.38                                 547     533   \n",
       "2     Arizona             0.30                                 563     553   \n",
       "3    Arkansas             0.03                                 614     594   \n",
       "4  California             0.53                                 531     524   \n",
       "\n",
       "   Total  Participation_y  English  Math_y  Reading  Science  Composite  \n",
       "0   1165             1.00     18.9    18.4     19.7     19.4       19.2  \n",
       "1   1080             0.65     18.7    19.8     20.4     19.9       19.8  \n",
       "2   1116             0.62     18.6    19.8     20.1     19.8       19.7  \n",
       "3   1208             1.00     18.9    19.0     19.7     19.5       19.4  \n",
       "4   1055             0.31     22.5    22.7     23.1     22.2       22.8  "
      ]
     },
     "execution_count": 117,
     "metadata": {},
     "output_type": "execute_result"
    }
   ],
   "source": [
    "sat_and_act = pd.merge(sat,act,how='inner',on='State')\n",
    "sat_and_act.head()"
   ]
  },
  {
   "cell_type": "markdown",
   "metadata": {},
   "source": [
    "##### 10. Change the names of the columns so you can distinguish between the SAT columns and the ACT columns."
   ]
  },
  {
   "cell_type": "code",
   "execution_count": 118,
   "metadata": {},
   "outputs": [
    {
     "data": {
      "text/html": [
       "<div>\n",
       "<style scoped>\n",
       "    .dataframe tbody tr th:only-of-type {\n",
       "        vertical-align: middle;\n",
       "    }\n",
       "\n",
       "    .dataframe tbody tr th {\n",
       "        vertical-align: top;\n",
       "    }\n",
       "\n",
       "    .dataframe thead th {\n",
       "        text-align: right;\n",
       "    }\n",
       "</style>\n",
       "<table border=\"1\" class=\"dataframe\">\n",
       "  <thead>\n",
       "    <tr style=\"text-align: right;\">\n",
       "      <th></th>\n",
       "      <th>State</th>\n",
       "      <th>Participation_sat</th>\n",
       "      <th>Evidence-Based_Reading_and_Writing_sat</th>\n",
       "      <th>Math_sat</th>\n",
       "      <th>Total_sat</th>\n",
       "      <th>Participation_act</th>\n",
       "      <th>English_act</th>\n",
       "      <th>Math_act</th>\n",
       "      <th>Reading_act</th>\n",
       "      <th>Science_act</th>\n",
       "      <th>Composite_act</th>\n",
       "    </tr>\n",
       "  </thead>\n",
       "  <tbody>\n",
       "    <tr>\n",
       "      <th>0</th>\n",
       "      <td>Alabama</td>\n",
       "      <td>0.05</td>\n",
       "      <td>593</td>\n",
       "      <td>572</td>\n",
       "      <td>1165</td>\n",
       "      <td>1.00</td>\n",
       "      <td>18.9</td>\n",
       "      <td>18.4</td>\n",
       "      <td>19.7</td>\n",
       "      <td>19.4</td>\n",
       "      <td>19.2</td>\n",
       "    </tr>\n",
       "    <tr>\n",
       "      <th>1</th>\n",
       "      <td>Alaska</td>\n",
       "      <td>0.38</td>\n",
       "      <td>547</td>\n",
       "      <td>533</td>\n",
       "      <td>1080</td>\n",
       "      <td>0.65</td>\n",
       "      <td>18.7</td>\n",
       "      <td>19.8</td>\n",
       "      <td>20.4</td>\n",
       "      <td>19.9</td>\n",
       "      <td>19.8</td>\n",
       "    </tr>\n",
       "    <tr>\n",
       "      <th>2</th>\n",
       "      <td>Arizona</td>\n",
       "      <td>0.30</td>\n",
       "      <td>563</td>\n",
       "      <td>553</td>\n",
       "      <td>1116</td>\n",
       "      <td>0.62</td>\n",
       "      <td>18.6</td>\n",
       "      <td>19.8</td>\n",
       "      <td>20.1</td>\n",
       "      <td>19.8</td>\n",
       "      <td>19.7</td>\n",
       "    </tr>\n",
       "    <tr>\n",
       "      <th>3</th>\n",
       "      <td>Arkansas</td>\n",
       "      <td>0.03</td>\n",
       "      <td>614</td>\n",
       "      <td>594</td>\n",
       "      <td>1208</td>\n",
       "      <td>1.00</td>\n",
       "      <td>18.9</td>\n",
       "      <td>19.0</td>\n",
       "      <td>19.7</td>\n",
       "      <td>19.5</td>\n",
       "      <td>19.4</td>\n",
       "    </tr>\n",
       "    <tr>\n",
       "      <th>4</th>\n",
       "      <td>California</td>\n",
       "      <td>0.53</td>\n",
       "      <td>531</td>\n",
       "      <td>524</td>\n",
       "      <td>1055</td>\n",
       "      <td>0.31</td>\n",
       "      <td>22.5</td>\n",
       "      <td>22.7</td>\n",
       "      <td>23.1</td>\n",
       "      <td>22.2</td>\n",
       "      <td>22.8</td>\n",
       "    </tr>\n",
       "  </tbody>\n",
       "</table>\n",
       "</div>"
      ],
      "text/plain": [
       "        State  Participation_sat  Evidence-Based_Reading_and_Writing_sat  \\\n",
       "0     Alabama               0.05                                     593   \n",
       "1      Alaska               0.38                                     547   \n",
       "2     Arizona               0.30                                     563   \n",
       "3    Arkansas               0.03                                     614   \n",
       "4  California               0.53                                     531   \n",
       "\n",
       "   Math_sat  Total_sat  Participation_act  English_act  Math_act  Reading_act  \\\n",
       "0       572       1165               1.00         18.9      18.4         19.7   \n",
       "1       533       1080               0.65         18.7      19.8         20.4   \n",
       "2       553       1116               0.62         18.6      19.8         20.1   \n",
       "3       594       1208               1.00         18.9      19.0         19.7   \n",
       "4       524       1055               0.31         22.5      22.7         23.1   \n",
       "\n",
       "   Science_act  Composite_act  \n",
       "0         19.4           19.2  \n",
       "1         19.9           19.8  \n",
       "2         19.8           19.7  \n",
       "3         19.5           19.4  \n",
       "4         22.2           22.8  "
      ]
     },
     "execution_count": 118,
     "metadata": {},
     "output_type": "execute_result"
    }
   ],
   "source": [
    "sat_and_act.columns = ['State','Participation_sat','Evidence-Based_Reading_and_Writing_sat','Math_sat','Total_sat',\n",
    "                    'Participation_act','English_act','Math_act','Reading_act','Science_act','Composite_act']\n",
    "sat_and_act.head()"
   ]
  },
  {
   "cell_type": "markdown",
   "metadata": {},
   "source": [
    "##### 11. Print the minimum and maximum of each numeric column in the data frame."
   ]
  },
  {
   "cell_type": "code",
   "execution_count": 119,
   "metadata": {},
   "outputs": [
    {
     "name": "stdout",
     "output_type": "stream",
     "text": [
      "State Min : Alabama\n",
      "State Max : Wyoming\n",
      "--------------------------\n",
      "Participation_sat Min : 0.02\n",
      "Participation_sat Max : 1.0\n",
      "--------------------------\n",
      "Evidence-Based_Reading_and_Writing_sat Min : 482\n",
      "Evidence-Based_Reading_and_Writing_sat Max : 644\n",
      "--------------------------\n",
      "Math_sat Min : 468\n",
      "Math_sat Max : 651\n",
      "--------------------------\n",
      "Total_sat Min : 950\n",
      "Total_sat Max : 1295\n",
      "--------------------------\n",
      "Participation_act Min : 0.08\n",
      "Participation_act Max : 1.0\n",
      "--------------------------\n",
      "English_act Min : 16.3\n",
      "English_act Max : 25.5\n",
      "--------------------------\n",
      "Math_act Min : 18.0\n",
      "Math_act Max : 25.3\n",
      "--------------------------\n",
      "Reading_act Min : 18.1\n",
      "Reading_act Max : 26.0\n",
      "--------------------------\n",
      "Science_act Min : 18.2\n",
      "Science_act Max : 24.9\n",
      "--------------------------\n",
      "Composite_act Min : 17.8\n",
      "Composite_act Max : 25.5\n",
      "--------------------------\n"
     ]
    }
   ],
   "source": [
    "columns = sat_and_act.columns\n",
    "for col in columns:\n",
    "    print(col, \"Min :\" , sat_and_act[col].min())\n",
    "    print(col, \"Max :\" , sat_and_act[col].max())\n",
    "    print('--------------------------')\n",
    "   \n"
   ]
  },
  {
   "cell_type": "markdown",
   "metadata": {},
   "source": [
    "##### 12. Write a function using only list comprehensions, no loops, to compute standard deviation. Using this function, calculate the standard deviation of each numeric column in both data sets. Add these to a list called `sd`.\n",
    "\n",
    "$$\\sigma = \\sqrt{\\frac{1}{n}\\sum_{i=1}^n(x_i - \\mu)^2}$$"
   ]
  },
  {
   "cell_type": "code",
   "execution_count": 120,
   "metadata": {},
   "outputs": [],
   "source": [
    "def std(df, col_names):\n",
    "    sd = []\n",
    "    try:\n",
    "        sd = [((1/len(df[i]))*sum((df[i] - np.mean(df[i]))**2))**.5 for i in col_names]\n",
    "    except:\n",
    "        pass\n",
    "    return sd"
   ]
  },
  {
   "cell_type": "code",
   "execution_count": 121,
   "metadata": {},
   "outputs": [
    {
     "data": {
      "text/plain": [
       "[0.3492907076664507,\n",
       " 45.21697020437866,\n",
       " 46.65713364485503,\n",
       " 91.58351056778743,\n",
       " 0.3182417575123181,\n",
       " 2.3304876369363363,\n",
       " 1.9624620273436781,\n",
       " 2.0469029314842646,\n",
       " 1.7361170088327353,\n",
       " 2.000786081581989]"
      ]
     },
     "execution_count": 121,
     "metadata": {},
     "output_type": "execute_result"
    }
   ],
   "source": [
    "sd = std(sat_and_act,['Participation_sat','Evidence-Based_Reading_and_Writing_sat','Math_sat','Total_sat',\n",
    "                  'Participation_act','English_act','Math_act','Reading_act','Science_act','Composite_act'])\n",
    "sd\n"
   ]
  },
  {
   "cell_type": "markdown",
   "metadata": {},
   "source": [
    "## Step 2: Manipulate the dataframe"
   ]
  },
  {
   "cell_type": "markdown",
   "metadata": {},
   "source": [
    "##### 13. Turn the list `sd` into a new observation in your dataset."
   ]
  },
  {
   "cell_type": "code",
   "execution_count": 122,
   "metadata": {},
   "outputs": [
    {
     "data": {
      "text/html": [
       "<div>\n",
       "<style scoped>\n",
       "    .dataframe tbody tr th:only-of-type {\n",
       "        vertical-align: middle;\n",
       "    }\n",
       "\n",
       "    .dataframe tbody tr th {\n",
       "        vertical-align: top;\n",
       "    }\n",
       "\n",
       "    .dataframe thead th {\n",
       "        text-align: right;\n",
       "    }\n",
       "</style>\n",
       "<table border=\"1\" class=\"dataframe\">\n",
       "  <thead>\n",
       "    <tr style=\"text-align: right;\">\n",
       "      <th></th>\n",
       "      <th>State</th>\n",
       "      <th>Participation_sat</th>\n",
       "      <th>Evidence-Based_Reading_and_Writing_sat</th>\n",
       "      <th>Math_sat</th>\n",
       "      <th>Total_sat</th>\n",
       "      <th>Participation_act</th>\n",
       "      <th>English_act</th>\n",
       "      <th>Math_act</th>\n",
       "      <th>Reading_act</th>\n",
       "      <th>Science_act</th>\n",
       "      <th>Composite_act</th>\n",
       "    </tr>\n",
       "  </thead>\n",
       "  <tbody>\n",
       "    <tr>\n",
       "      <th>47</th>\n",
       "      <td>Washington</td>\n",
       "      <td>0.640000</td>\n",
       "      <td>541.00000</td>\n",
       "      <td>534.000000</td>\n",
       "      <td>1075.000000</td>\n",
       "      <td>0.290000</td>\n",
       "      <td>20.900000</td>\n",
       "      <td>21.900000</td>\n",
       "      <td>22.100000</td>\n",
       "      <td>22.000000</td>\n",
       "      <td>21.900000</td>\n",
       "    </tr>\n",
       "    <tr>\n",
       "      <th>48</th>\n",
       "      <td>West Virginia</td>\n",
       "      <td>0.140000</td>\n",
       "      <td>558.00000</td>\n",
       "      <td>528.000000</td>\n",
       "      <td>1086.000000</td>\n",
       "      <td>0.690000</td>\n",
       "      <td>20.000000</td>\n",
       "      <td>19.400000</td>\n",
       "      <td>21.200000</td>\n",
       "      <td>20.500000</td>\n",
       "      <td>20.400000</td>\n",
       "    </tr>\n",
       "    <tr>\n",
       "      <th>49</th>\n",
       "      <td>Wisconsin</td>\n",
       "      <td>0.030000</td>\n",
       "      <td>642.00000</td>\n",
       "      <td>649.000000</td>\n",
       "      <td>1291.000000</td>\n",
       "      <td>1.000000</td>\n",
       "      <td>19.700000</td>\n",
       "      <td>20.400000</td>\n",
       "      <td>20.600000</td>\n",
       "      <td>20.900000</td>\n",
       "      <td>20.500000</td>\n",
       "    </tr>\n",
       "    <tr>\n",
       "      <th>50</th>\n",
       "      <td>Wyoming</td>\n",
       "      <td>0.030000</td>\n",
       "      <td>626.00000</td>\n",
       "      <td>604.000000</td>\n",
       "      <td>1230.000000</td>\n",
       "      <td>1.000000</td>\n",
       "      <td>19.400000</td>\n",
       "      <td>19.800000</td>\n",
       "      <td>20.800000</td>\n",
       "      <td>20.600000</td>\n",
       "      <td>20.200000</td>\n",
       "    </tr>\n",
       "    <tr>\n",
       "      <th>51</th>\n",
       "      <td>STD</td>\n",
       "      <td>0.349291</td>\n",
       "      <td>45.21697</td>\n",
       "      <td>46.657134</td>\n",
       "      <td>91.583511</td>\n",
       "      <td>0.318242</td>\n",
       "      <td>2.330488</td>\n",
       "      <td>1.962462</td>\n",
       "      <td>2.046903</td>\n",
       "      <td>1.736117</td>\n",
       "      <td>2.000786</td>\n",
       "    </tr>\n",
       "  </tbody>\n",
       "</table>\n",
       "</div>"
      ],
      "text/plain": [
       "            State  Participation_sat  Evidence-Based_Reading_and_Writing_sat  \\\n",
       "47     Washington           0.640000                               541.00000   \n",
       "48  West Virginia           0.140000                               558.00000   \n",
       "49      Wisconsin           0.030000                               642.00000   \n",
       "50        Wyoming           0.030000                               626.00000   \n",
       "51            STD           0.349291                                45.21697   \n",
       "\n",
       "      Math_sat    Total_sat  Participation_act  English_act   Math_act  \\\n",
       "47  534.000000  1075.000000           0.290000    20.900000  21.900000   \n",
       "48  528.000000  1086.000000           0.690000    20.000000  19.400000   \n",
       "49  649.000000  1291.000000           1.000000    19.700000  20.400000   \n",
       "50  604.000000  1230.000000           1.000000    19.400000  19.800000   \n",
       "51   46.657134    91.583511           0.318242     2.330488   1.962462   \n",
       "\n",
       "    Reading_act  Science_act  Composite_act  \n",
       "47    22.100000    22.000000      21.900000  \n",
       "48    21.200000    20.500000      20.400000  \n",
       "49    20.600000    20.900000      20.500000  \n",
       "50    20.800000    20.600000      20.200000  \n",
       "51     2.046903     1.736117       2.000786  "
      ]
     },
     "execution_count": 122,
     "metadata": {},
     "output_type": "execute_result"
    }
   ],
   "source": [
    "sat_and_act_sd = sat_and_act\n",
    "sat_and_act_sd.loc[51]=['STD'] + sd\n",
    "\n",
    "sat_and_act_sd.tail()"
   ]
  },
  {
   "cell_type": "code",
   "execution_count": 123,
   "metadata": {
    "scrolled": true
   },
   "outputs": [
    {
     "data": {
      "text/html": [
       "<div>\n",
       "<style scoped>\n",
       "    .dataframe tbody tr th:only-of-type {\n",
       "        vertical-align: middle;\n",
       "    }\n",
       "\n",
       "    .dataframe tbody tr th {\n",
       "        vertical-align: top;\n",
       "    }\n",
       "\n",
       "    .dataframe thead th {\n",
       "        text-align: right;\n",
       "    }\n",
       "</style>\n",
       "<table border=\"1\" class=\"dataframe\">\n",
       "  <thead>\n",
       "    <tr style=\"text-align: right;\">\n",
       "      <th></th>\n",
       "      <th>State</th>\n",
       "      <th>Participation_sat</th>\n",
       "      <th>Evidence-Based_Reading_and_Writing_sat</th>\n",
       "      <th>Math_sat</th>\n",
       "      <th>Total_sat</th>\n",
       "      <th>Participation_act</th>\n",
       "      <th>English_act</th>\n",
       "      <th>Math_act</th>\n",
       "      <th>Reading_act</th>\n",
       "      <th>Science_act</th>\n",
       "      <th>Composite_act</th>\n",
       "    </tr>\n",
       "  </thead>\n",
       "  <tbody>\n",
       "    <tr>\n",
       "      <th>46</th>\n",
       "      <td>Virginia</td>\n",
       "      <td>0.65</td>\n",
       "      <td>561.0</td>\n",
       "      <td>541.0</td>\n",
       "      <td>1102.0</td>\n",
       "      <td>0.29</td>\n",
       "      <td>23.5</td>\n",
       "      <td>23.3</td>\n",
       "      <td>24.6</td>\n",
       "      <td>23.5</td>\n",
       "      <td>23.8</td>\n",
       "    </tr>\n",
       "    <tr>\n",
       "      <th>47</th>\n",
       "      <td>Washington</td>\n",
       "      <td>0.64</td>\n",
       "      <td>541.0</td>\n",
       "      <td>534.0</td>\n",
       "      <td>1075.0</td>\n",
       "      <td>0.29</td>\n",
       "      <td>20.9</td>\n",
       "      <td>21.9</td>\n",
       "      <td>22.1</td>\n",
       "      <td>22.0</td>\n",
       "      <td>21.9</td>\n",
       "    </tr>\n",
       "    <tr>\n",
       "      <th>48</th>\n",
       "      <td>West Virginia</td>\n",
       "      <td>0.14</td>\n",
       "      <td>558.0</td>\n",
       "      <td>528.0</td>\n",
       "      <td>1086.0</td>\n",
       "      <td>0.69</td>\n",
       "      <td>20.0</td>\n",
       "      <td>19.4</td>\n",
       "      <td>21.2</td>\n",
       "      <td>20.5</td>\n",
       "      <td>20.4</td>\n",
       "    </tr>\n",
       "    <tr>\n",
       "      <th>49</th>\n",
       "      <td>Wisconsin</td>\n",
       "      <td>0.03</td>\n",
       "      <td>642.0</td>\n",
       "      <td>649.0</td>\n",
       "      <td>1291.0</td>\n",
       "      <td>1.00</td>\n",
       "      <td>19.7</td>\n",
       "      <td>20.4</td>\n",
       "      <td>20.6</td>\n",
       "      <td>20.9</td>\n",
       "      <td>20.5</td>\n",
       "    </tr>\n",
       "    <tr>\n",
       "      <th>50</th>\n",
       "      <td>Wyoming</td>\n",
       "      <td>0.03</td>\n",
       "      <td>626.0</td>\n",
       "      <td>604.0</td>\n",
       "      <td>1230.0</td>\n",
       "      <td>1.00</td>\n",
       "      <td>19.4</td>\n",
       "      <td>19.8</td>\n",
       "      <td>20.8</td>\n",
       "      <td>20.6</td>\n",
       "      <td>20.2</td>\n",
       "    </tr>\n",
       "  </tbody>\n",
       "</table>\n",
       "</div>"
      ],
      "text/plain": [
       "            State  Participation_sat  Evidence-Based_Reading_and_Writing_sat  \\\n",
       "46       Virginia               0.65                                   561.0   \n",
       "47     Washington               0.64                                   541.0   \n",
       "48  West Virginia               0.14                                   558.0   \n",
       "49      Wisconsin               0.03                                   642.0   \n",
       "50        Wyoming               0.03                                   626.0   \n",
       "\n",
       "    Math_sat  Total_sat  Participation_act  English_act  Math_act  \\\n",
       "46     541.0     1102.0               0.29         23.5      23.3   \n",
       "47     534.0     1075.0               0.29         20.9      21.9   \n",
       "48     528.0     1086.0               0.69         20.0      19.4   \n",
       "49     649.0     1291.0               1.00         19.7      20.4   \n",
       "50     604.0     1230.0               1.00         19.4      19.8   \n",
       "\n",
       "    Reading_act  Science_act  Composite_act  \n",
       "46         24.6         23.5           23.8  \n",
       "47         22.1         22.0           21.9  \n",
       "48         21.2         20.5           20.4  \n",
       "49         20.6         20.9           20.5  \n",
       "50         20.8         20.6           20.2  "
      ]
     },
     "execution_count": 123,
     "metadata": {},
     "output_type": "execute_result"
    }
   ],
   "source": [
    "sat_and_act.drop(51, inplace=True)\n",
    "sat_and_act.tail()"
   ]
  },
  {
   "cell_type": "markdown",
   "metadata": {},
   "source": [
    "##### 14. Sort the dataframe by the values in a numeric column (e.g. observations descending by SAT participation rate)"
   ]
  },
  {
   "cell_type": "code",
   "execution_count": 124,
   "metadata": {},
   "outputs": [
    {
     "data": {
      "text/html": [
       "<div>\n",
       "<style scoped>\n",
       "    .dataframe tbody tr th:only-of-type {\n",
       "        vertical-align: middle;\n",
       "    }\n",
       "\n",
       "    .dataframe tbody tr th {\n",
       "        vertical-align: top;\n",
       "    }\n",
       "\n",
       "    .dataframe thead th {\n",
       "        text-align: right;\n",
       "    }\n",
       "</style>\n",
       "<table border=\"1\" class=\"dataframe\">\n",
       "  <thead>\n",
       "    <tr style=\"text-align: right;\">\n",
       "      <th></th>\n",
       "      <th>State</th>\n",
       "      <th>Participation_sat</th>\n",
       "      <th>Evidence-Based_Reading_and_Writing_sat</th>\n",
       "      <th>Math_sat</th>\n",
       "      <th>Total_sat</th>\n",
       "      <th>Participation_act</th>\n",
       "      <th>English_act</th>\n",
       "      <th>Math_act</th>\n",
       "      <th>Reading_act</th>\n",
       "      <th>Science_act</th>\n",
       "      <th>Composite_act</th>\n",
       "    </tr>\n",
       "  </thead>\n",
       "  <tbody>\n",
       "    <tr>\n",
       "      <th>8</th>\n",
       "      <td>District of Columbia</td>\n",
       "      <td>1.00</td>\n",
       "      <td>482.0</td>\n",
       "      <td>468.0</td>\n",
       "      <td>950.0</td>\n",
       "      <td>0.32</td>\n",
       "      <td>24.4</td>\n",
       "      <td>23.5</td>\n",
       "      <td>24.9</td>\n",
       "      <td>23.5</td>\n",
       "      <td>24.2</td>\n",
       "    </tr>\n",
       "    <tr>\n",
       "      <th>22</th>\n",
       "      <td>Michigan</td>\n",
       "      <td>1.00</td>\n",
       "      <td>509.0</td>\n",
       "      <td>495.0</td>\n",
       "      <td>1005.0</td>\n",
       "      <td>0.29</td>\n",
       "      <td>24.1</td>\n",
       "      <td>23.7</td>\n",
       "      <td>24.5</td>\n",
       "      <td>23.8</td>\n",
       "      <td>24.1</td>\n",
       "    </tr>\n",
       "    <tr>\n",
       "      <th>6</th>\n",
       "      <td>Connecticut</td>\n",
       "      <td>1.00</td>\n",
       "      <td>530.0</td>\n",
       "      <td>512.0</td>\n",
       "      <td>1041.0</td>\n",
       "      <td>0.31</td>\n",
       "      <td>25.5</td>\n",
       "      <td>24.6</td>\n",
       "      <td>25.6</td>\n",
       "      <td>24.6</td>\n",
       "      <td>25.2</td>\n",
       "    </tr>\n",
       "    <tr>\n",
       "      <th>7</th>\n",
       "      <td>Delaware</td>\n",
       "      <td>1.00</td>\n",
       "      <td>503.0</td>\n",
       "      <td>492.0</td>\n",
       "      <td>996.0</td>\n",
       "      <td>0.18</td>\n",
       "      <td>24.1</td>\n",
       "      <td>23.4</td>\n",
       "      <td>24.8</td>\n",
       "      <td>23.6</td>\n",
       "      <td>24.1</td>\n",
       "    </tr>\n",
       "    <tr>\n",
       "      <th>29</th>\n",
       "      <td>New Hampshire</td>\n",
       "      <td>0.96</td>\n",
       "      <td>532.0</td>\n",
       "      <td>520.0</td>\n",
       "      <td>1052.0</td>\n",
       "      <td>0.18</td>\n",
       "      <td>25.4</td>\n",
       "      <td>25.1</td>\n",
       "      <td>26.0</td>\n",
       "      <td>24.9</td>\n",
       "      <td>25.5</td>\n",
       "    </tr>\n",
       "  </tbody>\n",
       "</table>\n",
       "</div>"
      ],
      "text/plain": [
       "                   State  Participation_sat  \\\n",
       "8   District of Columbia               1.00   \n",
       "22              Michigan               1.00   \n",
       "6            Connecticut               1.00   \n",
       "7               Delaware               1.00   \n",
       "29         New Hampshire               0.96   \n",
       "\n",
       "    Evidence-Based_Reading_and_Writing_sat  Math_sat  Total_sat  \\\n",
       "8                                    482.0     468.0      950.0   \n",
       "22                                   509.0     495.0     1005.0   \n",
       "6                                    530.0     512.0     1041.0   \n",
       "7                                    503.0     492.0      996.0   \n",
       "29                                   532.0     520.0     1052.0   \n",
       "\n",
       "    Participation_act  English_act  Math_act  Reading_act  Science_act  \\\n",
       "8                0.32         24.4      23.5         24.9         23.5   \n",
       "22               0.29         24.1      23.7         24.5         23.8   \n",
       "6                0.31         25.5      24.6         25.6         24.6   \n",
       "7                0.18         24.1      23.4         24.8         23.6   \n",
       "29               0.18         25.4      25.1         26.0         24.9   \n",
       "\n",
       "    Composite_act  \n",
       "8            24.2  \n",
       "22           24.1  \n",
       "6            25.2  \n",
       "7            24.1  \n",
       "29           25.5  "
      ]
     },
     "execution_count": 124,
     "metadata": {},
     "output_type": "execute_result"
    }
   ],
   "source": [
    "sat_and_act.sort_values(by='Participation_sat', ascending = False).head()"
   ]
  },
  {
   "cell_type": "markdown",
   "metadata": {},
   "source": [
    "##### 15. Use a boolean filter to display only observations with a score above a certain threshold (e.g. only states with a participation rate above 50%)"
   ]
  },
  {
   "cell_type": "code",
   "execution_count": 125,
   "metadata": {},
   "outputs": [
    {
     "name": "stdout",
     "output_type": "stream",
     "text": [
      "0    False\n",
      "1    False\n",
      "2    False\n",
      "3    False\n",
      "4     True\n",
      "Name: Participation_sat, dtype: bool\n"
     ]
    }
   ],
   "source": [
    "sat_participation_above_fifty = sat_and_act['Participation_sat'] > .50\n",
    "print(sat_participation_above_fifty.head())\n"
   ]
  },
  {
   "cell_type": "code",
   "execution_count": 126,
   "metadata": {
    "scrolled": true
   },
   "outputs": [
    {
     "data": {
      "text/html": [
       "<div>\n",
       "<style scoped>\n",
       "    .dataframe tbody tr th:only-of-type {\n",
       "        vertical-align: middle;\n",
       "    }\n",
       "\n",
       "    .dataframe tbody tr th {\n",
       "        vertical-align: top;\n",
       "    }\n",
       "\n",
       "    .dataframe thead th {\n",
       "        text-align: right;\n",
       "    }\n",
       "</style>\n",
       "<table border=\"1\" class=\"dataframe\">\n",
       "  <thead>\n",
       "    <tr style=\"text-align: right;\">\n",
       "      <th></th>\n",
       "      <th>State</th>\n",
       "      <th>Participation_sat</th>\n",
       "      <th>Evidence-Based_Reading_and_Writing_sat</th>\n",
       "      <th>Math_sat</th>\n",
       "      <th>Total_sat</th>\n",
       "      <th>Participation_act</th>\n",
       "      <th>English_act</th>\n",
       "      <th>Math_act</th>\n",
       "      <th>Reading_act</th>\n",
       "      <th>Science_act</th>\n",
       "      <th>Composite_act</th>\n",
       "    </tr>\n",
       "  </thead>\n",
       "  <tbody>\n",
       "    <tr>\n",
       "      <th>4</th>\n",
       "      <td>California</td>\n",
       "      <td>0.53</td>\n",
       "      <td>531.0</td>\n",
       "      <td>524.0</td>\n",
       "      <td>1055.0</td>\n",
       "      <td>0.31</td>\n",
       "      <td>22.5</td>\n",
       "      <td>22.7</td>\n",
       "      <td>23.1</td>\n",
       "      <td>22.2</td>\n",
       "      <td>22.8</td>\n",
       "    </tr>\n",
       "    <tr>\n",
       "      <th>6</th>\n",
       "      <td>Connecticut</td>\n",
       "      <td>1.00</td>\n",
       "      <td>530.0</td>\n",
       "      <td>512.0</td>\n",
       "      <td>1041.0</td>\n",
       "      <td>0.31</td>\n",
       "      <td>25.5</td>\n",
       "      <td>24.6</td>\n",
       "      <td>25.6</td>\n",
       "      <td>24.6</td>\n",
       "      <td>25.2</td>\n",
       "    </tr>\n",
       "    <tr>\n",
       "      <th>7</th>\n",
       "      <td>Delaware</td>\n",
       "      <td>1.00</td>\n",
       "      <td>503.0</td>\n",
       "      <td>492.0</td>\n",
       "      <td>996.0</td>\n",
       "      <td>0.18</td>\n",
       "      <td>24.1</td>\n",
       "      <td>23.4</td>\n",
       "      <td>24.8</td>\n",
       "      <td>23.6</td>\n",
       "      <td>24.1</td>\n",
       "    </tr>\n",
       "    <tr>\n",
       "      <th>8</th>\n",
       "      <td>District of Columbia</td>\n",
       "      <td>1.00</td>\n",
       "      <td>482.0</td>\n",
       "      <td>468.0</td>\n",
       "      <td>950.0</td>\n",
       "      <td>0.32</td>\n",
       "      <td>24.4</td>\n",
       "      <td>23.5</td>\n",
       "      <td>24.9</td>\n",
       "      <td>23.5</td>\n",
       "      <td>24.2</td>\n",
       "    </tr>\n",
       "    <tr>\n",
       "      <th>9</th>\n",
       "      <td>Florida</td>\n",
       "      <td>0.83</td>\n",
       "      <td>520.0</td>\n",
       "      <td>497.0</td>\n",
       "      <td>1017.0</td>\n",
       "      <td>0.73</td>\n",
       "      <td>19.0</td>\n",
       "      <td>19.4</td>\n",
       "      <td>21.0</td>\n",
       "      <td>19.4</td>\n",
       "      <td>19.8</td>\n",
       "    </tr>\n",
       "  </tbody>\n",
       "</table>\n",
       "</div>"
      ],
      "text/plain": [
       "                  State  Participation_sat  \\\n",
       "4            California               0.53   \n",
       "6           Connecticut               1.00   \n",
       "7              Delaware               1.00   \n",
       "8  District of Columbia               1.00   \n",
       "9               Florida               0.83   \n",
       "\n",
       "   Evidence-Based_Reading_and_Writing_sat  Math_sat  Total_sat  \\\n",
       "4                                   531.0     524.0     1055.0   \n",
       "6                                   530.0     512.0     1041.0   \n",
       "7                                   503.0     492.0      996.0   \n",
       "8                                   482.0     468.0      950.0   \n",
       "9                                   520.0     497.0     1017.0   \n",
       "\n",
       "   Participation_act  English_act  Math_act  Reading_act  Science_act  \\\n",
       "4               0.31         22.5      22.7         23.1         22.2   \n",
       "6               0.31         25.5      24.6         25.6         24.6   \n",
       "7               0.18         24.1      23.4         24.8         23.6   \n",
       "8               0.32         24.4      23.5         24.9         23.5   \n",
       "9               0.73         19.0      19.4         21.0         19.4   \n",
       "\n",
       "   Composite_act  \n",
       "4           22.8  \n",
       "6           25.2  \n",
       "7           24.1  \n",
       "8           24.2  \n",
       "9           19.8  "
      ]
     },
     "execution_count": 126,
     "metadata": {},
     "output_type": "execute_result"
    }
   ],
   "source": [
    "sat_and_act_fifty = sat_and_act[sat_participation_above_fifty]\n",
    "sat_and_act_fifty.head()"
   ]
  },
  {
   "cell_type": "markdown",
   "metadata": {},
   "source": [
    "## Step 3: Visualize the data"
   ]
  },
  {
   "cell_type": "markdown",
   "metadata": {
    "collapsed": true
   },
   "source": [
    "##### 16. Using MatPlotLib and PyPlot, plot the distribution of the Rate columns for both SAT and ACT using histograms. (You should have two histograms. You might find [this link](https://matplotlib.org/users/pyplot_tutorial.html#working-with-multiple-figures-and-axes) helpful in organizing one plot above the other.) "
   ]
  },
  {
   "cell_type": "code",
   "execution_count": 127,
   "metadata": {},
   "outputs": [
    {
     "data": {
      "text/plain": [
       "<matplotlib.axes._subplots.AxesSubplot at 0x1a20ab5390>"
      ]
     },
     "execution_count": 127,
     "metadata": {},
     "output_type": "execute_result"
    },
    {
     "data": {
      "image/png": "[encoded data removed]",
      "text/plain": [
       "<Figure size 1080x216 with 2 Axes>"
      ]
     },
     "metadata": {},
     "output_type": "display_data"
    }
   ],
   "source": [
    "import matplotlib.pyplot as plt\n",
    "\n",
    "x = sat['Participation']\n",
    "y = act['Participation']\n",
    "\n",
    "figure, ax = plt.subplots(nrows = 1, ncols = 2, figsize=(15,3))\n",
    "sat_and_act['Participation_sat'].plot(ax = ax[0], title = 'SAT Participation', kind = 'hist')\n",
    "sat_and_act['Participation_act'].plot(ax = ax[1], title = 'ACT Participation', kind = 'hist')\n",
    "\n",
    "\n"
   ]
  },
  {
   "cell_type": "markdown",
   "metadata": {},
   "source": [
    "##### 17. Plot the Math(s) distributions from both data sets."
   ]
  },
  {
   "cell_type": "code",
   "execution_count": 128,
   "metadata": {},
   "outputs": [
    {
     "data": {
      "image/png": "[encoded data removed]",
      "text/plain": [
       "<Figure size 432x288 with 2 Axes>"
      ]
     },
     "metadata": {},
     "output_type": "display_data"
    }
   ],
   "source": [
    "z = sat['Math']\n",
    "w = act['Math']\n",
    "\n",
    "fig, (axs1,axs2) = plt.subplots(1,2,sharey=True)\n",
    "axs1.hist(z)\n",
    "axs2.hist(w)\n",
    "axs1.title.set_text('SAT Math')\n",
    "axs2.title.set_text('ACT Math')"
   ]
  },
  {
   "cell_type": "markdown",
   "metadata": {},
   "source": [
    "##### 18. Plot the Verbal distributions from both data sets."
   ]
  },
  {
   "cell_type": "code",
   "execution_count": 129,
   "metadata": {},
   "outputs": [
    {
     "data": {
      "image/png": "[encoded data removed]",
      "text/plain": [
       "<Figure size 432x288 with 2 Axes>"
      ]
     },
     "metadata": {},
     "output_type": "display_data"
    }
   ],
   "source": [
    "q = sat['Evidence-Based Reading and Writing']\n",
    "r = act['Reading']\n",
    "\n",
    "fig, (axs1,axs2) = plt.subplots(1,2,sharey=True)\n",
    "axs1.hist(q)\n",
    "axs2.hist(r)\n",
    "axs1.title.set_text('SAT Reading')\n",
    "axs2.title.set_text('ACT Reading')"
   ]
  },
  {
   "cell_type": "markdown",
   "metadata": {},
   "source": [
    "##### 19. When we make assumptions about how data are distributed, what is the most common assumption?"
   ]
  },
  {
   "cell_type": "markdown",
   "metadata": {},
   "source": [
    "That the data is normally distributed"
   ]
  },
  {
   "cell_type": "markdown",
   "metadata": {},
   "source": [
    "##### 20. Does this assumption hold true for any of our columns? Which?"
   ]
  },
  {
   "cell_type": "markdown",
   "metadata": {},
   "source": [
    "It does not appear that any of our variables are normally distributed"
   ]
  },
  {
   "cell_type": "markdown",
   "metadata": {},
   "source": [
    "##### 21. Plot some scatterplots examining relationships between all variables."
   ]
  },
  {
   "cell_type": "code",
   "execution_count": 130,
   "metadata": {
    "scrolled": true
   },
   "outputs": [
    {
     "data": {
      "image/png": "[encoded data removed]",
      "text/plain": [
       "<Figure size 1800x2880 with 20 Axes>"
      ]
     },
     "metadata": {},
     "output_type": "display_data"
    }
   ],
   "source": [
    "figure, ax = plt.subplots(nrows = 10, ncols = 2, figsize=(25, 40))\n",
    "\n",
    "columns = ['Evidence-Based_Reading_and_Writing_sat','Math_sat','Total_sat', 'Participation_sat',\n",
    "           'Participation_act','English_act','Math_act','Reading_act','Science_act','Composite_act']\n",
    "\n",
    "\n",
    "for row_index, variable in enumerate(columns):\n",
    "        sat_and_act.plot(ax = ax[row_index, 0], x = 'Participation_sat', y = columns[row_index], kind = 'scatter', s = 100)\n",
    "        sat_and_act.plot(ax = ax[row_index, 1], x = 'Participation_act', y = columns[row_index], kind = 'scatter', s = 100)\n",
    "    \n",
    "#sns.pairplot(sat)"
   ]
  },
  {
   "cell_type": "code",
   "execution_count": 146,
   "metadata": {},
   "outputs": [],
   "source": [
    "#plt.figure(figsize=(15,10))\n",
    "#sns.regplot(data = sat_and_act, x = 'Participation_sat', y = 'Participation_act', scatter = True)\n",
    "#plt.xlabel('SAT Participation', size = 20)\n",
    "#plt.ylabel('ACT Participation', size = 20)\n",
    "#plt.savefig('../images/scatter_participation.png')"
   ]
  },
  {
   "cell_type": "code",
   "execution_count": 147,
   "metadata": {},
   "outputs": [],
   "source": [
    "#sns.regplot(data = sat_and_act, x = 'Participation_act', y = 'Composite_act', scatter = True)\n",
    "#plt.savefig('../images/scatter_act_participation_composite')"
   ]
  },
  {
   "cell_type": "code",
   "execution_count": 148,
   "metadata": {},
   "outputs": [],
   "source": [
    "#sns.regplot(data = sat_and_act, x = 'Participation_sat', y = 'Total_sat', scatter = True)\n",
    "#plt.savefig('../images/scatter_sat_participation_total')"
   ]
  },
  {
   "cell_type": "markdown",
   "metadata": {},
   "source": [
    "##### 22. Are there any interesting relationships to note?"
   ]
  },
  {
   "cell_type": "markdown",
   "metadata": {},
   "source": [
    "Participation seems to be negatively correlated with the ACT total score (composite score) and also the SAT total score.\n",
    "Participation ACT and Participation SAT also seem to be strongly, negatively correlated."
   ]
  },
  {
   "cell_type": "markdown",
   "metadata": {},
   "source": [
    "##### 23. Create box plots for each variable. "
   ]
  },
  {
   "cell_type": "code",
   "execution_count": 134,
   "metadata": {
    "scrolled": true
   },
   "outputs": [
    {
     "data": {
      "image/png": "[encoded data removed]",
      "text/plain": [
       "<Figure size 720x2160 with 10 Axes>"
      ]
     },
     "metadata": {},
     "output_type": "display_data"
    }
   ],
   "source": [
    "figure, ax = plt.subplots(nrows = 10, ncols = 1, figsize=(10, 30))\n",
    "columns = ['Participation_sat','Evidence-Based_Reading_and_Writing_sat','Math_sat','Total_sat',\n",
    "           'Participation_act','English_act','Math_act','Reading_act','Science_act','Composite_act']\n",
    "for row_index, variable in enumerate(columns):\n",
    "        sat_and_act[variable].plot(ax = ax[row_index], kind = 'box')"
   ]
  },
  {
   "cell_type": "markdown",
   "metadata": {},
   "source": [
    "##### BONUS: Using Tableau, create a heat map for each variable using a map of the US. "
   ]
  },
  {
   "cell_type": "code",
   "execution_count": null,
   "metadata": {},
   "outputs": [],
   "source": []
  },
  {
   "cell_type": "markdown",
   "metadata": {},
   "source": [
    "## Step 4: Descriptive and Inferential Statistics"
   ]
  },
  {
   "cell_type": "markdown",
   "metadata": {},
   "source": [
    "##### 24. Summarize each distribution. As data scientists, be sure to back up these summaries with statistics. (Hint: What are the three things we care about when describing distributions?)"
   ]
  },
  {
   "cell_type": "code",
   "execution_count": 135,
   "metadata": {},
   "outputs": [
    {
     "data": {
      "text/plain": [
       "count    51.000000\n",
       "mean      0.398039\n",
       "std       0.352766\n",
       "min       0.020000\n",
       "25%       0.040000\n",
       "50%       0.380000\n",
       "75%       0.660000\n",
       "max       1.000000\n",
       "Name: Participation_sat, dtype: float64"
      ]
     },
     "execution_count": 135,
     "metadata": {},
     "output_type": "execute_result"
    }
   ],
   "source": [
    "sat_and_act['Participation_sat'].describe()"
   ]
  },
  {
   "cell_type": "code",
   "execution_count": 136,
   "metadata": {},
   "outputs": [
    {
     "name": "stderr",
     "output_type": "stream",
     "text": [
      "/anaconda3/lib/python3.6/site-packages/matplotlib/axes/_axes.py:6462: UserWarning: The 'normed' kwarg is deprecated, and has been replaced by the 'density' kwarg.\n",
      "  warnings.warn(\"The 'normed' kwarg is deprecated, and has been \"\n"
     ]
    },
    {
     "data": {
      "text/plain": [
       "<matplotlib.axes._subplots.AxesSubplot at 0x1a21eeab38>"
      ]
     },
     "execution_count": 136,
     "metadata": {},
     "output_type": "execute_result"
    },
    {
     "data": {
      "image/png": "[encoded data removed]",
      "text/plain": [
       "<Figure size 432x288 with 1 Axes>"
      ]
     },
     "metadata": {},
     "output_type": "display_data"
    }
   ],
   "source": [
    "sns.distplot(sat_and_act.Participation_sat)"
   ]
  },
  {
   "cell_type": "markdown",
   "metadata": {},
   "source": [
    "The SAT participation rate distribution (shown above) looks bimodal and slightly right skewed. It has a mean of .398 and a STD of .352766 "
   ]
  },
  {
   "cell_type": "code",
   "execution_count": 137,
   "metadata": {},
   "outputs": [
    {
     "data": {
      "text/plain": [
       "count    51.000000\n",
       "mean      0.652549\n",
       "std       0.321408\n",
       "min       0.080000\n",
       "25%       0.310000\n",
       "50%       0.690000\n",
       "75%       1.000000\n",
       "max       1.000000\n",
       "Name: Participation_act, dtype: float64"
      ]
     },
     "execution_count": 137,
     "metadata": {},
     "output_type": "execute_result"
    }
   ],
   "source": [
    "sat_and_act['Participation_act'].describe()"
   ]
  },
  {
   "cell_type": "markdown",
   "metadata": {},
   "source": [
    "The ACT participation rate distribution (shown below) also looks bimodal and is slightly left skewed. It has a mean of .652 and a STD of .3214"
   ]
  },
  {
   "cell_type": "code",
   "execution_count": 138,
   "metadata": {},
   "outputs": [
    {
     "name": "stderr",
     "output_type": "stream",
     "text": [
      "/anaconda3/lib/python3.6/site-packages/matplotlib/axes/_axes.py:6462: UserWarning: The 'normed' kwarg is deprecated, and has been replaced by the 'density' kwarg.\n",
      "  warnings.warn(\"The 'normed' kwarg is deprecated, and has been \"\n"
     ]
    },
    {
     "data": {
      "text/plain": [
       "<matplotlib.axes._subplots.AxesSubplot at 0x1a1f693780>"
      ]
     },
     "execution_count": 138,
     "metadata": {},
     "output_type": "execute_result"
    },
    {
     "data": {
      "image/png": "[encoded data removed]",
      "text/plain": [
       "<Figure size 432x288 with 1 Axes>"
      ]
     },
     "metadata": {},
     "output_type": "display_data"
    }
   ],
   "source": [
    "sns.distplot(sat_and_act.Participation_act)"
   ]
  },
  {
   "cell_type": "code",
   "execution_count": 139,
   "metadata": {},
   "outputs": [
    {
     "data": {
      "text/plain": [
       "count     51.000000\n",
       "mean     556.882353\n",
       "std       47.121395\n",
       "min      468.000000\n",
       "25%      523.500000\n",
       "50%      548.000000\n",
       "75%      599.000000\n",
       "max      651.000000\n",
       "Name: Math, dtype: float64"
      ]
     },
     "execution_count": 139,
     "metadata": {},
     "output_type": "execute_result"
    }
   ],
   "source": [
    "sat['Math'].describe()"
   ]
  },
  {
   "cell_type": "markdown",
   "metadata": {},
   "source": [
    "The SAT Math distribution (shown in 17) is skewed to the left and looks unimodal. It has a mean of 547.63 and a STD of 84.9, which is fairly high."
   ]
  },
  {
   "cell_type": "code",
   "execution_count": 140,
   "metadata": {},
   "outputs": [
    {
     "data": {
      "text/plain": [
       "count    52.000000\n",
       "mean     21.173077\n",
       "std       1.963602\n",
       "min      18.000000\n",
       "25%      19.400000\n",
       "50%      20.900000\n",
       "75%      23.100000\n",
       "max      25.300000\n",
       "Name: Math, dtype: float64"
      ]
     },
     "execution_count": 140,
     "metadata": {},
     "output_type": "execute_result"
    }
   ],
   "source": [
    "act['Math'].describe()"
   ]
  },
  {
   "cell_type": "markdown",
   "metadata": {},
   "source": [
    "The ACT Math distribution (shown in 17) looks multimodal and slightly right skewed. It has a mean of 21.173 and a std of 1.96."
   ]
  },
  {
   "cell_type": "code",
   "execution_count": 150,
   "metadata": {},
   "outputs": [
    {
     "data": {
      "text/plain": [
       "count     51.000000\n",
       "mean     569.117647\n",
       "std       45.666901\n",
       "min      482.000000\n",
       "25%      533.500000\n",
       "50%      559.000000\n",
       "75%      613.000000\n",
       "max      644.000000\n",
       "Name: Evidence-Based Reading and Writing, dtype: float64"
      ]
     },
     "execution_count": 150,
     "metadata": {},
     "output_type": "execute_result"
    }
   ],
   "source": [
    "sat['Evidence-Based Reading and Writing'].describe()"
   ]
  },
  {
   "cell_type": "markdown",
   "metadata": {},
   "source": [
    "The SAT verbal distribution (shown in 18) looks bimodal and slightly right skewed. It is centered around its mean of 569.1, and has an standard deviation of about 45.6."
   ]
  },
  {
   "cell_type": "code",
   "execution_count": 151,
   "metadata": {},
   "outputs": [
    {
     "data": {
      "text/plain": [
       "count    52.000000\n",
       "mean     22.001923\n",
       "std       2.048672\n",
       "min      18.100000\n",
       "25%      20.475000\n",
       "50%      21.700000\n",
       "75%      24.125000\n",
       "max      26.000000\n",
       "Name: Reading, dtype: float64"
      ]
     },
     "execution_count": 151,
     "metadata": {},
     "output_type": "execute_result"
    }
   ],
   "source": [
    "act['Reading'].describe()"
   ]
  },
  {
   "cell_type": "markdown",
   "metadata": {},
   "source": [
    "The ACT reading distrubtion (shown in 18) looks bimodal and slightly right skewed. It is centered around its mean of 22 and has a standard deviation of 2."
   ]
  },
  {
   "cell_type": "markdown",
   "metadata": {},
   "source": [
    "##### 25. Summarize each relationship. Be sure to back up these summaries with statistics."
   ]
  },
  {
   "cell_type": "code",
   "execution_count": 141,
   "metadata": {},
   "outputs": [
    {
     "data": {
      "text/html": [
       "<div>\n",
       "<style scoped>\n",
       "    .dataframe tbody tr th:only-of-type {\n",
       "        vertical-align: middle;\n",
       "    }\n",
       "\n",
       "    .dataframe tbody tr th {\n",
       "        vertical-align: top;\n",
       "    }\n",
       "\n",
       "    .dataframe thead th {\n",
       "        text-align: right;\n",
       "    }\n",
       "</style>\n",
       "<table border=\"1\" class=\"dataframe\">\n",
       "  <thead>\n",
       "    <tr style=\"text-align: right;\">\n",
       "      <th></th>\n",
       "      <th>Participation_sat</th>\n",
       "      <th>Evidence-Based_Reading_and_Writing_sat</th>\n",
       "      <th>Math_sat</th>\n",
       "      <th>Total_sat</th>\n",
       "      <th>Participation_act</th>\n",
       "      <th>English_act</th>\n",
       "      <th>Math_act</th>\n",
       "      <th>Reading_act</th>\n",
       "      <th>Science_act</th>\n",
       "      <th>Composite_act</th>\n",
       "    </tr>\n",
       "  </thead>\n",
       "  <tbody>\n",
       "    <tr>\n",
       "      <th>Participation_sat</th>\n",
       "      <td>1.000000</td>\n",
       "      <td>-0.874326</td>\n",
       "      <td>-0.855091</td>\n",
       "      <td>-0.867540</td>\n",
       "      <td>-0.841234</td>\n",
       "      <td>0.686889</td>\n",
       "      <td>0.710697</td>\n",
       "      <td>0.705352</td>\n",
       "      <td>0.654100</td>\n",
       "      <td>0.694748</td>\n",
       "    </tr>\n",
       "    <tr>\n",
       "      <th>Evidence-Based_Reading_and_Writing_sat</th>\n",
       "      <td>-0.874326</td>\n",
       "      <td>1.000000</td>\n",
       "      <td>0.987056</td>\n",
       "      <td>0.996661</td>\n",
       "      <td>0.716153</td>\n",
       "      <td>-0.461345</td>\n",
       "      <td>-0.486126</td>\n",
       "      <td>-0.488441</td>\n",
       "      <td>-0.423713</td>\n",
       "      <td>-0.470382</td>\n",
       "    </tr>\n",
       "    <tr>\n",
       "      <th>Math_sat</th>\n",
       "      <td>-0.855091</td>\n",
       "      <td>0.987056</td>\n",
       "      <td>1.000000</td>\n",
       "      <td>0.996822</td>\n",
       "      <td>0.682572</td>\n",
       "      <td>-0.420673</td>\n",
       "      <td>-0.420456</td>\n",
       "      <td>-0.442410</td>\n",
       "      <td>-0.367364</td>\n",
       "      <td>-0.417817</td>\n",
       "    </tr>\n",
       "    <tr>\n",
       "      <th>Total_sat</th>\n",
       "      <td>-0.867540</td>\n",
       "      <td>0.996661</td>\n",
       "      <td>0.996822</td>\n",
       "      <td>1.000000</td>\n",
       "      <td>0.701477</td>\n",
       "      <td>-0.441947</td>\n",
       "      <td>-0.454116</td>\n",
       "      <td>-0.466558</td>\n",
       "      <td>-0.396291</td>\n",
       "      <td>-0.445020</td>\n",
       "    </tr>\n",
       "    <tr>\n",
       "      <th>Participation_act</th>\n",
       "      <td>-0.841234</td>\n",
       "      <td>0.716153</td>\n",
       "      <td>0.682572</td>\n",
       "      <td>0.701477</td>\n",
       "      <td>1.000000</td>\n",
       "      <td>-0.843501</td>\n",
       "      <td>-0.861114</td>\n",
       "      <td>-0.866620</td>\n",
       "      <td>-0.837830</td>\n",
       "      <td>-0.858134</td>\n",
       "    </tr>\n",
       "    <tr>\n",
       "      <th>English_act</th>\n",
       "      <td>0.686889</td>\n",
       "      <td>-0.461345</td>\n",
       "      <td>-0.420673</td>\n",
       "      <td>-0.441947</td>\n",
       "      <td>-0.843501</td>\n",
       "      <td>1.000000</td>\n",
       "      <td>0.967803</td>\n",
       "      <td>0.985999</td>\n",
       "      <td>0.979082</td>\n",
       "      <td>0.990856</td>\n",
       "    </tr>\n",
       "    <tr>\n",
       "      <th>Math_act</th>\n",
       "      <td>0.710697</td>\n",
       "      <td>-0.486126</td>\n",
       "      <td>-0.420456</td>\n",
       "      <td>-0.454116</td>\n",
       "      <td>-0.861114</td>\n",
       "      <td>0.967803</td>\n",
       "      <td>1.000000</td>\n",
       "      <td>0.979630</td>\n",
       "      <td>0.985648</td>\n",
       "      <td>0.990451</td>\n",
       "    </tr>\n",
       "    <tr>\n",
       "      <th>Reading_act</th>\n",
       "      <td>0.705352</td>\n",
       "      <td>-0.488441</td>\n",
       "      <td>-0.442410</td>\n",
       "      <td>-0.466558</td>\n",
       "      <td>-0.866620</td>\n",
       "      <td>0.985999</td>\n",
       "      <td>0.979630</td>\n",
       "      <td>1.000000</td>\n",
       "      <td>0.987361</td>\n",
       "      <td>0.995069</td>\n",
       "    </tr>\n",
       "    <tr>\n",
       "      <th>Science_act</th>\n",
       "      <td>0.654100</td>\n",
       "      <td>-0.423713</td>\n",
       "      <td>-0.367364</td>\n",
       "      <td>-0.396291</td>\n",
       "      <td>-0.837830</td>\n",
       "      <td>0.979082</td>\n",
       "      <td>0.985648</td>\n",
       "      <td>0.987361</td>\n",
       "      <td>1.000000</td>\n",
       "      <td>0.994207</td>\n",
       "    </tr>\n",
       "    <tr>\n",
       "      <th>Composite_act</th>\n",
       "      <td>0.694748</td>\n",
       "      <td>-0.470382</td>\n",
       "      <td>-0.417817</td>\n",
       "      <td>-0.445020</td>\n",
       "      <td>-0.858134</td>\n",
       "      <td>0.990856</td>\n",
       "      <td>0.990451</td>\n",
       "      <td>0.995069</td>\n",
       "      <td>0.994207</td>\n",
       "      <td>1.000000</td>\n",
       "    </tr>\n",
       "  </tbody>\n",
       "</table>\n",
       "</div>"
      ],
      "text/plain": [
       "                                        Participation_sat  \\\n",
       "Participation_sat                                1.000000   \n",
       "Evidence-Based_Reading_and_Writing_sat          -0.874326   \n",
       "Math_sat                                        -0.855091   \n",
       "Total_sat                                       -0.867540   \n",
       "Participation_act                               -0.841234   \n",
       "English_act                                      0.686889   \n",
       "Math_act                                         0.710697   \n",
       "Reading_act                                      0.705352   \n",
       "Science_act                                      0.654100   \n",
       "Composite_act                                    0.694748   \n",
       "\n",
       "                                        Evidence-Based_Reading_and_Writing_sat  \\\n",
       "Participation_sat                                                    -0.874326   \n",
       "Evidence-Based_Reading_and_Writing_sat                                1.000000   \n",
       "Math_sat                                                              0.987056   \n",
       "Total_sat                                                             0.996661   \n",
       "Participation_act                                                     0.716153   \n",
       "English_act                                                          -0.461345   \n",
       "Math_act                                                             -0.486126   \n",
       "Reading_act                                                          -0.488441   \n",
       "Science_act                                                          -0.423713   \n",
       "Composite_act                                                        -0.470382   \n",
       "\n",
       "                                        Math_sat  Total_sat  \\\n",
       "Participation_sat                      -0.855091  -0.867540   \n",
       "Evidence-Based_Reading_and_Writing_sat  0.987056   0.996661   \n",
       "Math_sat                                1.000000   0.996822   \n",
       "Total_sat                               0.996822   1.000000   \n",
       "Participation_act                       0.682572   0.701477   \n",
       "English_act                            -0.420673  -0.441947   \n",
       "Math_act                               -0.420456  -0.454116   \n",
       "Reading_act                            -0.442410  -0.466558   \n",
       "Science_act                            -0.367364  -0.396291   \n",
       "Composite_act                          -0.417817  -0.445020   \n",
       "\n",
       "                                        Participation_act  English_act  \\\n",
       "Participation_sat                               -0.841234     0.686889   \n",
       "Evidence-Based_Reading_and_Writing_sat           0.716153    -0.461345   \n",
       "Math_sat                                         0.682572    -0.420673   \n",
       "Total_sat                                        0.701477    -0.441947   \n",
       "Participation_act                                1.000000    -0.843501   \n",
       "English_act                                     -0.843501     1.000000   \n",
       "Math_act                                        -0.861114     0.967803   \n",
       "Reading_act                                     -0.866620     0.985999   \n",
       "Science_act                                     -0.837830     0.979082   \n",
       "Composite_act                                   -0.858134     0.990856   \n",
       "\n",
       "                                        Math_act  Reading_act  Science_act  \\\n",
       "Participation_sat                       0.710697     0.705352     0.654100   \n",
       "Evidence-Based_Reading_and_Writing_sat -0.486126    -0.488441    -0.423713   \n",
       "Math_sat                               -0.420456    -0.442410    -0.367364   \n",
       "Total_sat                              -0.454116    -0.466558    -0.396291   \n",
       "Participation_act                      -0.861114    -0.866620    -0.837830   \n",
       "English_act                             0.967803     0.985999     0.979082   \n",
       "Math_act                                1.000000     0.979630     0.985648   \n",
       "Reading_act                             0.979630     1.000000     0.987361   \n",
       "Science_act                             0.985648     0.987361     1.000000   \n",
       "Composite_act                           0.990451     0.995069     0.994207   \n",
       "\n",
       "                                        Composite_act  \n",
       "Participation_sat                            0.694748  \n",
       "Evidence-Based_Reading_and_Writing_sat      -0.470382  \n",
       "Math_sat                                    -0.417817  \n",
       "Total_sat                                   -0.445020  \n",
       "Participation_act                           -0.858134  \n",
       "English_act                                  0.990856  \n",
       "Math_act                                     0.990451  \n",
       "Reading_act                                  0.995069  \n",
       "Science_act                                  0.994207  \n",
       "Composite_act                                1.000000  "
      ]
     },
     "execution_count": 141,
     "metadata": {},
     "output_type": "execute_result"
    }
   ],
   "source": [
    "sat_and_act.corr()"
   ]
  },
  {
   "cell_type": "markdown",
   "metadata": {},
   "source": [
    "##### 26. Execute a hypothesis test comparing the SAT and ACT participation rates. Use $\\alpha = 0.05$. Be sure to interpret your results."
   ]
  },
  {
   "cell_type": "markdown",
   "metadata": {},
   "source": [
    "$H_0$: SAT and ACT participation rates are the same\n",
    "\n",
    "$H_A$: SAt and ACT participation rates are not the same"
   ]
  },
  {
   "cell_type": "code",
   "execution_count": 142,
   "metadata": {},
   "outputs": [
    {
     "data": {
      "text/plain": [
       "Ttest_indResult(statistic=-3.8303821313480526, pvalue=0.0002223140576950348)"
      ]
     },
     "execution_count": 142,
     "metadata": {},
     "output_type": "execute_result"
    }
   ],
   "source": [
    "stats.ttest_ind(sat['Participation'],act['Participation'],equal_var=True)"
   ]
  },
  {
   "cell_type": "markdown",
   "metadata": {},
   "source": [
    "Because our resulting p-value is below our alpha value, the test shows that we have enough evidence to reject the null hypothesis in favor of the alternative hypothesis"
   ]
  },
  {
   "cell_type": "markdown",
   "metadata": {},
   "source": [
    "##### 27. Generate and interpret 95% confidence intervals for SAT and ACT participation rates."
   ]
  },
  {
   "cell_type": "code",
   "execution_count": 143,
   "metadata": {},
   "outputs": [
    {
     "name": "stdout",
     "output_type": "stream",
     "text": [
      "(0.30025917653989787, 0.4958192548326512)\n",
      "(0.5633048447391016, 0.7397720783378212)\n"
     ]
    }
   ],
   "source": [
    "print(stats.norm.interval(.95, np.mean(sat['Participation']), np.std(sat['Participation'], ddof=1)/np.sqrt(50)))\n",
    "print(stats.norm.interval(.95, np.mean(act['Participation']), np.std(act['Participation'], ddof=1)/np.sqrt(50)))"
   ]
  },
  {
   "cell_type": "markdown",
   "metadata": {},
   "source": [
    "##### 28. Given your answer to 26, was your answer to 27 surprising? Why?"
   ]
  },
  {
   "cell_type": "markdown",
   "metadata": {},
   "source": [
    "No, the confidence intervals don't overlap, which supports our answer to 26"
   ]
  },
  {
   "cell_type": "markdown",
   "metadata": {},
   "source": [
    "##### 29. Is it appropriate to generate correlation between SAT and ACT math scores? Why?"
   ]
  },
  {
   "cell_type": "markdown",
   "metadata": {},
   "source": [
    "No, because we don't know if everyone who took the SAT took the ACT, so they're most likely independent variables that have no effect on one another"
   ]
  },
  {
   "cell_type": "markdown",
   "metadata": {},
   "source": [
    "##### 30. Suppose we only seek to understand the relationship between SAT and ACT data in 2017. Does it make sense to conduct statistical inference given the data we have? Why?"
   ]
  },
  {
   "cell_type": "markdown",
   "metadata": {},
   "source": [
    "No, because we only have summary data on the SAT and ACT for every state, rather than a sample of data of students' individual test scores "
   ]
  },
  {
   "cell_type": "code",
   "execution_count": null,
   "metadata": {},
   "outputs": [],
   "source": []
  },
  {
   "cell_type": "code",
   "execution_count": null,
   "metadata": {},
   "outputs": [],
   "source": []
  },
  {
   "cell_type": "code",
   "execution_count": null,
   "metadata": {},
   "outputs": [],
   "source": []
  }
 ],
 "metadata": {
  "anaconda-cloud": {},
  "kernelspec": {
   "display_name": "Python 3",
   "language": "python",
   "name": "python3"
  },
  "language_info": {
   "codemirror_mode": {
    "name": "ipython",
    "version": 3
   },
   "file_extension": ".py",
   "mimetype": "text/x-python",
   "name": "python",
   "nbconvert_exporter": "python",
   "pygments_lexer": "ipython3",
   "version": "3.6.5"
  }
 },
 "nbformat": 4,
 "nbformat_minor": 1
}
